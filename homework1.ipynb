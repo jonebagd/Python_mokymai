{
 "cells": [
  {
   "cell_type": "code",
   "execution_count": null,
   "metadata": {},
   "outputs": [],
   "source": [
    "#homework"
   ]
  },
  {
   "cell_type": "code",
   "execution_count": 2,
   "metadata": {},
   "outputs": [
    {
     "name": "stdout",
     "output_type": "stream",
     "text": [
      "#1.1\n",
      "[-4, -3, -2, -1, 0, 1, 2, 3, 4, 5]\n",
      "2\n",
      "3\n",
      "4\n",
      "5\n",
      "-4\n",
      "-3\n",
      "-2\n",
      "-1\n",
      "0\n",
      "1\n",
      "#1.2\n",
      "1225\n"
     ]
    }
   ],
   "source": [
    "#1.1 Print the first 10 inclusive numbers using for loop.\n",
    "#1.2 Get the sum of the first 50 numbers inclusive.\n",
    "\n",
    "print('#1.1')\n",
    "numbers = list(range(-4,6))\n",
    "print(numbers)\n",
    "for i in range(-4,6):\n",
    "    print (numbers[i])\n",
    "\n",
    "print('#1.2')\n",
    "numbers1 = list(range(0,50))\n",
    "print(sum(numbers1))\n",
    "\n"
   ]
  },
  {
   "cell_type": "code",
   "execution_count": 3,
   "metadata": {},
   "outputs": [
    {
     "name": "stdout",
     "output_type": "stream",
     "text": [
      "9\n"
     ]
    }
   ],
   "source": [
    "#2. Use Input() to select a number, print its product from 1 to 10 inclusive.\n",
    "\n",
    "a = int(input())\n",
    "if a in range(0,11):\n",
    "     print(a)\n",
    "else:\n",
    "     print('please enter a number between 0 and 10')\n",
    "\n",
    "\n"
   ]
  },
  {
   "cell_type": "code",
   "execution_count": 4,
   "metadata": {},
   "outputs": [
    {
     "data": {
      "text/plain": [
       "[('Monday', 10),\n",
       " ('Monday', 11),\n",
       " ('Monday', 12),\n",
       " ('Monday', 13),\n",
       " ('Monday', 14),\n",
       " ('Monday', 15),\n",
       " ('Monday', 16),\n",
       " ('Monday', 17),\n",
       " ('Monday', 18),\n",
       " ('Monday', 19),\n",
       " ('Tuesday', 10),\n",
       " ('Tuesday', 11),\n",
       " ('Tuesday', 12),\n",
       " ('Tuesday', 13),\n",
       " ('Tuesday', 14),\n",
       " ('Tuesday', 15),\n",
       " ('Tuesday', 16),\n",
       " ('Tuesday', 17),\n",
       " ('Tuesday', 18),\n",
       " ('Tuesday', 19),\n",
       " ('Wednesday', 10),\n",
       " ('Wednesday', 11),\n",
       " ('Wednesday', 12),\n",
       " ('Wednesday', 13),\n",
       " ('Wednesday', 14),\n",
       " ('Wednesday', 15),\n",
       " ('Wednesday', 16),\n",
       " ('Wednesday', 17),\n",
       " ('Wednesday', 18),\n",
       " ('Wednesday', 19),\n",
       " ('Thursday', 10),\n",
       " ('Thursday', 11),\n",
       " ('Thursday', 12),\n",
       " ('Thursday', 13),\n",
       " ('Thursday', 14),\n",
       " ('Thursday', 15),\n",
       " ('Thursday', 16),\n",
       " ('Thursday', 17),\n",
       " ('Thursday', 18),\n",
       " ('Thursday', 19),\n",
       " ('Friday', 10),\n",
       " ('Friday', 11),\n",
       " ('Friday', 12),\n",
       " ('Friday', 13),\n",
       " ('Friday', 14),\n",
       " ('Friday', 15),\n",
       " ('Friday', 16),\n",
       " ('Friday', 17),\n",
       " ('Friday', 18),\n",
       " ('Friday', 19),\n",
       " ('Saturday', 10),\n",
       " ('Saturday', 11),\n",
       " ('Saturday', 12),\n",
       " ('Saturday', 13),\n",
       " ('Saturday', 14),\n",
       " ('Saturday', 15),\n",
       " ('Saturday', 16),\n",
       " ('Saturday', 17),\n",
       " ('Saturday', 18),\n",
       " ('Saturday', 19),\n",
       " ('Sunday', 10),\n",
       " ('Sunday', 11),\n",
       " ('Sunday', 12),\n",
       " ('Sunday', 13),\n",
       " ('Sunday', 14),\n",
       " ('Sunday', 15),\n",
       " ('Sunday', 16),\n",
       " ('Sunday', 17),\n",
       " ('Sunday', 18),\n",
       " ('Sunday', 19)]"
      ]
     },
     "execution_count": 4,
     "metadata": {},
     "output_type": "execute_result"
    }
   ],
   "source": [
    "#3. Get all possible combinations from these lists, add them to a single list.\n",
    "#days = ('Monday', 'Tuesday', 'Wednesday', 'Thursday', 'Friday', 'Saturday' , 'Sunday')\n",
    "#hours = [10, 11, 12, 13, 14, 15, 16, 17, 18, 19]\n",
    "\n",
    "\n",
    "#Expected output: [ ('Monday', 10), ('Monday', 11),  ('Monday', 12)... ]\n",
    "\n",
    "days = ('Monday', 'Tuesday', 'Wednesday', 'Thursday', 'Friday', 'Saturday' , 'Sunday')\n",
    "hours = [10, 11, 12, 13, 14, 15, 16, 17, 18, 19]\n",
    "\n",
    "[(day,hour) for day in days for hour in hours]"
   ]
  }
 ],
 "metadata": {
  "kernelspec": {
   "display_name": "Python 3",
   "language": "python",
   "name": "python3"
  },
  "language_info": {
   "codemirror_mode": {
    "name": "ipython",
    "version": 3
   },
   "file_extension": ".py",
   "mimetype": "text/x-python",
   "name": "python",
   "nbconvert_exporter": "python",
   "pygments_lexer": "ipython3",
   "version": "3.11.2"
  },
  "orig_nbformat": 4,
  "vscode": {
   "interpreter": {
    "hash": "4e73e8d8f89bdd539245a9679ef8d9d36b829ee2c1c672402cc0b5e6efc46637"
   }
  }
 },
 "nbformat": 4,
 "nbformat_minor": 2
}
