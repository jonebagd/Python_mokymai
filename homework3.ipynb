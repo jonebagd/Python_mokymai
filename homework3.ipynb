{
 "cells": [
  {
   "cell_type": "code",
   "execution_count": null,
   "metadata": {},
   "outputs": [],
   "source": [
    "# 1) Create a list of 10 words and answer these questions:\n",
    "#How many words are longer than 10 characters\n",
    "#Which word is the longest and shortest\n",
    "#Is even one word palindrome, if so, what or what are those words\n",
    "#Palindrome - Reading a word in reverse results in the same word.\n",
    "#bob -> bob\n",
    "\n",
    "Words = ('cat', 'apple', 'radar', 'bookkeeper','librarian', 'moose', 'trigonometry', 'article', 'lamp', 'friendship')\n"
   ]
  }
 ],
 "metadata": {
  "language_info": {
   "name": "python"
  },
  "orig_nbformat": 4
 },
 "nbformat": 4,
 "nbformat_minor": 2
}
