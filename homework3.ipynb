{
 "cells": [
  {
   "cell_type": "code",
   "execution_count": 22,
   "metadata": {},
   "outputs": [
    {
     "name": "stdout",
     "output_type": "stream",
     "text": [
      "bookkeepers\n",
      "trigonometry\n"
     ]
    }
   ],
   "source": [
    "# 1) Create a list of 10 words and answer these questions:\n",
    "#How many words are longer than 10 characters\n",
    "\n",
    "Words = ('cat', 'apple', 'radar', 'bookkeepers','librarian', 'moose', 'trigonometry', 'article', 'lamp', 'friendship')\n",
    "for word in Words:\n",
    "    if len(word)>10:\n",
    "        print(word)\n",
    "\n",
    "\n",
    "\n"
   ]
  },
  {
   "cell_type": "code",
   "execution_count": 21,
   "metadata": {},
   "outputs": [
    {
     "name": "stdout",
     "output_type": "stream",
     "text": [
      "trigonometry\n",
      "cat\n"
     ]
    }
   ],
   "source": [
    "#Which word is the longest and shortest\n",
    "\n",
    "Words = ('cat', 'apple', 'radar', 'bookkeepers','librarian', 'moose', 'trigonometry', 'article', 'lamp', 'friendship')\n",
    "longestword = max (Words, key=len)\n",
    "print(longestword)\n",
    "\n",
    "shortestword = min(Words, key=len)\n",
    "print(shortestword)"
   ]
  },
  {
   "cell_type": "code",
   "execution_count": 25,
   "metadata": {},
   "outputs": [
    {
     "name": "stdout",
     "output_type": "stream",
     "text": [
      "radar\n"
     ]
    }
   ],
   "source": [
    "#Is even one word palindrome, if so, what or what are those words\n",
    "\n",
    "Words = ('cat', 'apple', 'radar', 'bookkeepers','librarian', 'moose', 'trigonometry', 'article', 'lamp', 'friendship')\n",
    "for word in Words:\n",
    "    if word == word[::-1]:\n",
    "        print(word)\n"
   ]
  },
  {
   "cell_type": "code",
   "execution_count": 48,
   "metadata": {},
   "outputs": [],
   "source": [
    "#2) With a list, get the largest product of nearby numbers my_list = [3, 6, -2, -5, 7, 3]\n",
    "#Result should be 21\n",
    "\n",
    "my_list = [3, 6, -2, -5, 7, 3]\n"
   ]
  },
  {
   "cell_type": "code",
   "execution_count": 29,
   "metadata": {},
   "outputs": [
    {
     "name": "stdout",
     "output_type": "stream",
     "text": [
      "{8, 9, 3, 15}\n"
     ]
    }
   ],
   "source": [
    "#3) Find duplicate items between two lists\n",
    "#a = [1,2,3,4,5,6,7,8,9,15]\n",
    "#b = [3,8,9,11,15]\n",
    "#Result should be  [3,8,9,15]\n",
    "\n",
    "a = [1,2,3,4,5,6,7,8,9,15]\n",
    "b = [3,8,9,11,15]\n",
    "\n",
    "seta = set(a)\n",
    "setb = set(b)\n",
    "\n",
    "print(seta.intersection(setb))"
   ]
  },
  {
   "cell_type": "code",
   "execution_count": 34,
   "metadata": {},
   "outputs": [
    {
     "name": "stdout",
     "output_type": "stream",
     "text": [
      "800\n",
      "1\n",
      "2\n",
      "900\n",
      "5\n",
      "8\n",
      "10\n",
      "12\n",
      "14\n"
     ]
    }
   ],
   "source": [
    "# 4) Filter out unique positive numbers from the list\n",
    "\n",
    "x = [1, 5, 1, 2, 8, -9, 10, 1, -8, -900, 14, 5, -8, 2, 1, -20, 900, 800, -6, -8, 12, 1]\n",
    "unique_numbers = set(x)\n",
    "for un_num in unique_numbers:\n",
    "    if un_num > 0:\n",
    "        print(un_num)"
   ]
  },
  {
   "cell_type": "code",
   "execution_count": 39,
   "metadata": {},
   "outputs": [
    {
     "name": "stdout",
     "output_type": "stream",
     "text": [
      "14796.0\n"
     ]
    }
   ],
   "source": [
    "# 5) Calculate the profit on the sale of all goods. Price and quantity information is provided as a dictionary, the answer rounded to 2 decimal places.\n",
    "\n",
    "\n",
    "x = { \"cost_price\": 32.67, \n",
    "         \"sell_price\": 45.00,\n",
    "          \"inventory\": 1200  }\n",
    "\n",
    "total_cost = x[\"cost_price\"] * x[\"inventory\"]\n",
    "total_revenue = x[\"sell_price\"] * x[\"inventory\"]\n",
    "\n",
    "total_profit = total_revenue - total_cost\n",
    "print(total_profit)"
   ]
  }
 ],
 "metadata": {
  "kernelspec": {
   "display_name": "Python 3",
   "language": "python",
   "name": "python3"
  },
  "language_info": {
   "codemirror_mode": {
    "name": "ipython",
    "version": 3
   },
   "file_extension": ".py",
   "mimetype": "text/x-python",
   "name": "python",
   "nbconvert_exporter": "python",
   "pygments_lexer": "ipython3",
   "version": "3.11.2"
  },
  "orig_nbformat": 4
 },
 "nbformat": 4,
 "nbformat_minor": 2
}
