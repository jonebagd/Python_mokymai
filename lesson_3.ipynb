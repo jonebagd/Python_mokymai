{
 "cells": [
  {
   "cell_type": "code",
   "execution_count": 5,
   "metadata": {},
   "outputs": [
    {
     "name": "stdout",
     "output_type": "stream",
     "text": [
      "[14, 786, 7]\n",
      "[14, 786, 7, 500]\n",
      "[14, 786, 7, 500, [100, 100]]\n",
      "[100, 100]\n",
      "extend\n",
      "[14, 786, 7, 500, [100, 100], 500]\n",
      "[14, 786, 7, 500, [100, 100], 500, 999, 888, 777]\n"
     ]
    }
   ],
   "source": [
    "numbers = [14,786,7]\n",
    "print(numbers)\n",
    "numbers.append(500)\n",
    "print(numbers)\n",
    "numbers.append([100,100])\n",
    "print(numbers)\n",
    "print(numbers[-1])\n",
    "\n",
    "print('extend')\n",
    "numbers.extend([500])\n",
    "print(numbers)\n",
    "numbers.extend([999,888,777])\n",
    "print(numbers)"
   ]
  },
  {
   "cell_type": "code",
   "execution_count": 11,
   "metadata": {},
   "outputs": [
    {
     "name": "stdout",
     "output_type": "stream",
     "text": [
      "[14, 1000, 786, 7, 500, [100, 100], 500, 999, 888, 777]\n"
     ]
    }
   ],
   "source": [
    "numbers.insert(1,1000)\n",
    "print(numbers)"
   ]
  },
  {
   "cell_type": "code",
   "execution_count": 17,
   "metadata": {},
   "outputs": [
    {
     "ename": "ValueError",
     "evalue": "list.remove(x): x not in list",
     "output_type": "error",
     "traceback": [
      "\u001b[1;31m---------------------------------------------------------------------------\u001b[0m",
      "\u001b[1;31mValueError\u001b[0m                                Traceback (most recent call last)",
      "Cell \u001b[1;32mIn[17], line 1\u001b[0m\n\u001b[1;32m----> 1\u001b[0m numbers\u001b[39m.\u001b[39;49mremove([\u001b[39m100\u001b[39;49m,\u001b[39m100\u001b[39;49m])\n\u001b[0;32m      3\u001b[0m numbers\u001b[39m.\u001b[39msort()\n\u001b[0;32m      4\u001b[0m \u001b[39mprint\u001b[39m(numbers)\n",
      "\u001b[1;31mValueError\u001b[0m: list.remove(x): x not in list"
     ]
    }
   ],
   "source": [
    "numbers.remove([100,100])\n",
    "\n",
    "numbers.sort()\n",
    "print(numbers)"
   ]
  },
  {
   "cell_type": "code",
   "execution_count": 18,
   "metadata": {},
   "outputs": [
    {
     "name": "stdout",
     "output_type": "stream",
     "text": [
      "[2, 4, 562, 778]\n",
      "[562, 4, 778, 2]\n"
     ]
    }
   ],
   "source": [
    "nums = [562,4,778,2]\n",
    "print(sorted(nums))\n",
    "print(nums)"
   ]
  },
  {
   "cell_type": "code",
   "execution_count": 38,
   "metadata": {},
   "outputs": [
    {
     "name": "stdout",
     "output_type": "stream",
     "text": [
      "[654, [[[48, [['65']]], 57]]]\n",
      "2\n",
      "[[[48, [['65']]], 57]]\n",
      "1\n",
      "[[48, [['65']]], 57]\n",
      "2\n",
      "[48, [['65']]]\n",
      "[['65']]\n",
      "['65']\n",
      "65\n"
     ]
    }
   ],
   "source": [
    "#task print 65 from this list\n",
    "\n",
    "nested_list = [654,[[[48,[['65']]],57]]]\n",
    "print(nested_list)\n",
    "print(len(nested_list))\n",
    "print(nested_list[1])\n",
    "print(len(nested_list[1]))\n",
    "print(nested_list[1][0])\n",
    "print(len(nested_list[1][0]))\n",
    "print(nested_list[1][0][0])\n",
    "print(nested_list[1][0][0][1])\n",
    "print(nested_list[1][0][0][1][0])\n",
    "print(nested_list[1][0][0][1][0][0])"
   ]
  },
  {
   "cell_type": "code",
   "execution_count": 34,
   "metadata": {},
   "outputs": [
    {
     "name": "stdout",
     "output_type": "stream",
     "text": [
      "[7, 14, 500, 500, 777, 786, 888, 999, 1000]\n",
      "[7, 500, 777, 888, 1000]\n"
     ]
    }
   ],
   "source": [
    "print(numbers)\n",
    "print(numbers[::2])"
   ]
  },
  {
   "cell_type": "code",
   "execution_count": 39,
   "metadata": {},
   "outputs": [
    {
     "data": {
      "text/plain": [
       "[7, 14, 500, 500, 777, 786, 888, 999, 1000]"
      ]
     },
     "execution_count": 39,
     "metadata": {},
     "output_type": "execute_result"
    }
   ],
   "source": [
    "numbers"
   ]
  },
  {
   "cell_type": "code",
   "execution_count": 40,
   "metadata": {},
   "outputs": [
    {
     "data": {
      "text/plain": [
       "True"
      ]
     },
     "execution_count": 40,
     "metadata": {},
     "output_type": "execute_result"
    }
   ],
   "source": [
    "14 in numbers"
   ]
  },
  {
   "cell_type": "code",
   "execution_count": 42,
   "metadata": {},
   "outputs": [
    {
     "name": "stdout",
     "output_type": "stream",
     "text": [
      "False\n",
      "True\n"
     ]
    }
   ],
   "source": [
    "print (bool([])) #empty will be false, otherwise true\n",
    "print (bool(['a']))"
   ]
  },
  {
   "attachments": {},
   "cell_type": "markdown",
   "metadata": {},
   "source": [
    "##Operators with list"
   ]
  },
  {
   "cell_type": "code",
   "execution_count": 44,
   "metadata": {},
   "outputs": [
    {
     "name": "stdout",
     "output_type": "stream",
     "text": [
      "[1, 2, 3, 'a', 'b', 'c']\n",
      "[1, 2, 3, 1, 2, 3, 1, 2, 3, 1, 2, 3, 1, 2, 3, 1, 2, 3, 1, 2, 3, 1, 2, 3, 1, 2, 3, 1, 2, 3]\n"
     ]
    }
   ],
   "source": [
    "print([1,2,3] + ['a', 'b','c'])\n",
    "print([1,2,3]*10)\n",
    "print([1,2,3]-[1,2]) #error"
   ]
  },
  {
   "cell_type": "code",
   "execution_count": 58,
   "metadata": {},
   "outputs": [
    {
     "name": "stdout",
     "output_type": "stream",
     "text": [
      "[14, 786, 7]\n",
      "[14, 786, 7, 500]\n",
      "4\n",
      "True\n",
      "[14, 786, 7, 500, 10]\n",
      "[14, 786, 7, 500, 10, 17]\n"
     ]
    }
   ],
   "source": [
    "#tasks\n",
    "#declare lsit type variable, get its length, add a new element\n",
    "numbers = [14,786,7]\n",
    "print(numbers)\n",
    "numbers.append(500)\n",
    "print(numbers)\n",
    "print(len(numbers))\n",
    "\n",
    "#check if the items is on your list with \"in\" \n",
    "bool_1 = 14 in numbers\n",
    "print(bool_1)\n",
    "5 in numbers\n",
    "\n",
    "#add two lists, remove the last member from your list, sort the list, count how many entries there are in the list\n",
    "numbers.append(10)\n",
    "print(numbers)\n",
    "numbers.append(17)\n",
    "print(numbers)\n",
    "\n"
   ]
  },
  {
   "cell_type": "code",
   "execution_count": 59,
   "metadata": {},
   "outputs": [
    {
     "name": "stdout",
     "output_type": "stream",
     "text": [
      "[1, 2, 3, 5, 6, 7]\n",
      "[1, 2, 3, 5, 6]\n",
      "[1, 2, 3, 5, 6]\n",
      "1\n"
     ]
    }
   ],
   "source": [
    "combined = [1,2,3]+[5,6,7]\n",
    "print(combined)\n",
    "combined.pop()\n",
    "print(combined)\n",
    "combined.sort()\n",
    "print(combined)\n",
    "print(combined.count(1))"
   ]
  },
  {
   "cell_type": "code",
   "execution_count": 63,
   "metadata": {},
   "outputs": [
    {
     "name": "stdout",
     "output_type": "stream",
     "text": [
      "before\n",
      "140733931647784\n",
      "140733931647784\n",
      "after\n",
      "140733931647784\n",
      "140733931647944\n",
      "1\n",
      "6\n"
     ]
    }
   ],
   "source": [
    "#mutable and imutable variables\n",
    "\n",
    "#imutable variable\n",
    "a = 1\n",
    "b = a\n",
    "print('before')\n",
    "print(id(a))\n",
    "print(id(b))\n",
    "b+=5\n",
    "print('after')\n",
    "print(id(a))\n",
    "print(id(b))\n",
    "print(a)\n",
    "print(b)"
   ]
  },
  {
   "cell_type": "code",
   "execution_count": 64,
   "metadata": {},
   "outputs": [
    {
     "name": "stdout",
     "output_type": "stream",
     "text": [
      "before\n",
      "2293244944448\n",
      "2293244944448\n",
      "after\n",
      "2293244944448\n",
      "2293244944448\n",
      "[1, 2, 3, 999]\n",
      "[1, 2, 3, 999]\n"
     ]
    }
   ],
   "source": [
    "#mutable variable\n",
    "a = [1,2,3]\n",
    "b = a\n",
    "print('before')\n",
    "print(id(a))\n",
    "print(id(b))\n",
    "b.append(999)\n",
    "print('after')\n",
    "print(id(a))\n",
    "print(id(b))\n",
    "print(a)\n",
    "print(b)"
   ]
  },
  {
   "cell_type": "code",
   "execution_count": 65,
   "metadata": {},
   "outputs": [
    {
     "name": "stdout",
     "output_type": "stream",
     "text": [
      "before\n",
      "2293245211200\n",
      "2293245205312\n",
      "after\n",
      "2293245211200\n",
      "2293245205312\n",
      "[1, 2, 3]\n",
      "[1, 2, 3, 999]\n"
     ]
    }
   ],
   "source": [
    "#fixing mutable viariable 1\n",
    "a = [1,2,3]\n",
    "b = a.copy()\n",
    "print('before')\n",
    "print(id(a))\n",
    "print(id(b))\n",
    "b.append(999)\n",
    "print('after')\n",
    "print(id(a))\n",
    "print(id(b))\n",
    "print(a)\n",
    "print(b)"
   ]
  },
  {
   "cell_type": "code",
   "execution_count": 67,
   "metadata": {},
   "outputs": [
    {
     "name": "stdout",
     "output_type": "stream",
     "text": [
      "before\n",
      "2293245030080\n",
      "2293245024128\n",
      "after\n",
      "2293245030080\n",
      "2293245024128\n",
      "[1, 2, ['a', 'b', 999]]\n",
      "[1, 2, ['a', 'b', 999], 999]\n"
     ]
    }
   ],
   "source": [
    "a = [1,2,['a','b']]\n",
    "b = a.copy()\n",
    "print('before')\n",
    "print(id(a))\n",
    "print(id(b))\n",
    "b[-1].append(999)\n",
    "b.append(999)\n",
    "print('after')\n",
    "print(id(a))\n",
    "print(id(b))\n",
    "print(a)\n",
    "print(b)"
   ]
  },
  {
   "cell_type": "code",
   "execution_count": 69,
   "metadata": {},
   "outputs": [
    {
     "name": "stdout",
     "output_type": "stream",
     "text": [
      "before\n",
      "2293245267328\n",
      "2293245269568\n",
      "after\n",
      "2293245267328\n",
      "2293245269568\n",
      "[1, 2, ['a', 'b']]\n",
      "[1, 2, ['a', 'b', 999], 999]\n"
     ]
    }
   ],
   "source": [
    "#fixing mutable viariable 2\n",
    "import copy\n",
    "a = [1,2,['a','b']]\n",
    "b = copy.deepcopy(a)\n",
    "print('before')\n",
    "print(id(a))\n",
    "print(id(b))\n",
    "b[-1].append(999)\n",
    "b.append(999)\n",
    "print('after')\n",
    "print(id(a))\n",
    "print(id(b))\n",
    "print(a)\n",
    "print(b)"
   ]
  },
  {
   "cell_type": "code",
   "execution_count": 71,
   "metadata": {},
   "outputs": [
    {
     "name": "stdout",
     "output_type": "stream",
     "text": [
      "<class 'tuple'>\n",
      "(1, 2, True, 'a')\n"
     ]
    }
   ],
   "source": [
    "#tuple declaration\n",
    "\n",
    "my_tuple = (1,2,True,'a')\n",
    "print(type(my_tuple))\n",
    "print(my_tuple)"
   ]
  },
  {
   "cell_type": "code",
   "execution_count": 74,
   "metadata": {},
   "outputs": [
    {
     "name": "stdout",
     "output_type": "stream",
     "text": [
      "1\n",
      "a\n",
      "(2, True)\n"
     ]
    }
   ],
   "source": [
    "print(my_tuple[0])\n",
    "print(my_tuple[-1])\n",
    "print(my_tuple[1:3])"
   ]
  },
  {
   "cell_type": "code",
   "execution_count": 77,
   "metadata": {},
   "outputs": [
    {
     "name": "stdout",
     "output_type": "stream",
     "text": [
      "[1, 2]\n",
      "[100, 2]\n",
      "tuple\n",
      "(1, 2, True, 'a')\n"
     ]
    },
    {
     "ename": "TypeError",
     "evalue": "'tuple' object does not support item assignment",
     "output_type": "error",
     "traceback": [
      "\u001b[1;31m---------------------------------------------------------------------------\u001b[0m",
      "\u001b[1;31mTypeError\u001b[0m                                 Traceback (most recent call last)",
      "Cell \u001b[1;32mIn[77], line 7\u001b[0m\n\u001b[0;32m      5\u001b[0m \u001b[39mprint\u001b[39m(\u001b[39m'\u001b[39m\u001b[39mtuple\u001b[39m\u001b[39m'\u001b[39m)\n\u001b[0;32m      6\u001b[0m \u001b[39mprint\u001b[39m(my_tuple)\n\u001b[1;32m----> 7\u001b[0m my_tuple[\u001b[39m0\u001b[39;49m] \u001b[39m=\u001b[39m \u001b[39m100\u001b[39m \u001b[39m#does not work like that\u001b[39;00m\n\u001b[0;32m      8\u001b[0m \u001b[39mprint\u001b[39m(my_tuple)\n",
      "\u001b[1;31mTypeError\u001b[0m: 'tuple' object does not support item assignment"
     ]
    }
   ],
   "source": [
    "my_list_2 = [1,2]\n",
    "print(my_list_2)\n",
    "my_list_2[0] = 100\n",
    "print(my_list_2)\n",
    "print('tuple')\n",
    "print(my_tuple)\n",
    "my_tuple[0] = 100 #does not work like that\n",
    "print(my_tuple)"
   ]
  },
  {
   "cell_type": "code",
   "execution_count": 78,
   "metadata": {},
   "outputs": [
    {
     "data": {
      "text/plain": [
       "(1, 2, True, 'a', 5, 55)"
      ]
     },
     "execution_count": 78,
     "metadata": {},
     "output_type": "execute_result"
    }
   ],
   "source": [
    "my_tuple + (5,55)"
   ]
  },
  {
   "cell_type": "code",
   "execution_count": 79,
   "metadata": {},
   "outputs": [
    {
     "data": {
      "text/plain": [
       "(1, 2, True, 'a', 1, 2, True, 'a', 1, 2, True, 'a')"
      ]
     },
     "execution_count": 79,
     "metadata": {},
     "output_type": "execute_result"
    }
   ],
   "source": [
    "my_tuple * 3"
   ]
  },
  {
   "cell_type": "code",
   "execution_count": 83,
   "metadata": {},
   "outputs": [
    {
     "name": "stdout",
     "output_type": "stream",
     "text": [
      "1\n",
      "3\n"
     ]
    }
   ],
   "source": [
    "print(my_tuple.count(2))\n",
    "print(my_tuple.index('a'))"
   ]
  },
  {
   "cell_type": "code",
   "execution_count": 86,
   "metadata": {},
   "outputs": [
    {
     "name": "stdout",
     "output_type": "stream",
     "text": [
      "4\n",
      "True\n",
      "False\n"
     ]
    }
   ],
   "source": [
    "print(len(my_tuple))\n",
    "print(2 in my_tuple)\n",
    "print(100 in my_tuple)"
   ]
  },
  {
   "cell_type": "code",
   "execution_count": 87,
   "metadata": {},
   "outputs": [
    {
     "name": "stdout",
     "output_type": "stream",
     "text": [
      "[1, 2, True, 'a']\n",
      "(1, 2, True, 'a')\n"
     ]
    }
   ],
   "source": [
    "print(list(my_tuple))\n",
    "print(tuple(list(my_tuple)))"
   ]
  },
  {
   "cell_type": "code",
   "execution_count": 117,
   "metadata": {},
   "outputs": [
    {
     "name": "stdout",
     "output_type": "stream",
     "text": [
      "(1, 2, ['3', 4, 5], 6, [7, 8])\n",
      "5\n",
      "[7, 8]\n",
      "2\n",
      "8\n",
      "[11, [222, 33], 44, 55]\n",
      "[11, [222, 22], 44, 55]\n",
      "(11, [222, 22], 44, 55)\n",
      "(11, [222, 22], 44, 55)\n",
      "(1, 2, 3, 8, 5, 1)\n",
      "[1, 2, 3, 8, 5, 1]\n",
      "[1, 2, 3, 8, 5]\n",
      "(1, 2, 3, 8, 5)\n",
      "[1, 2, 3, 5, 8]\n",
      "1\n",
      "8\n",
      "8\n"
     ]
    }
   ],
   "source": [
    "#task\n",
    "#get value 8 on the screen\n",
    "my_tuple = (1,2,['3',4,5],6,[7,(8)])\n",
    "print(my_tuple)\n",
    "print(len(my_tuple))\n",
    "print(my_tuple[-1])\n",
    "print(len(my_tuple[-1]))\n",
    "print(my_tuple[-1][-1])\n",
    "\n",
    "#replace values 1\n",
    "tuple1 = (11,[222,33],44,55)\n",
    "tmplist = list(tuple1)\n",
    "print(tmplist)\n",
    "tmplist[1][1] = 22\n",
    "print(tmplist)\n",
    "tuple1 = tuple(tmplist)\n",
    "print(tuple1)\n",
    "\n",
    "#replace values 2\n",
    "tuple1 = (11,[222,33],44,55)\n",
    "tuple1[1][1] = 22 #perraso, nes list\n",
    "print(tuple1)\n",
    "\n",
    "#comboned tuple\n",
    "combined_tuple = (1,2,3)+(8, 5, 1)\n",
    "print(combined_tuple)\n",
    "tmp_list = list(combined_tuple)\n",
    "print(tmp_list)\n",
    "tmp_list.pop()\n",
    "print(tmp_list)\n",
    "combined_tuple = tuple(tmp_list)\n",
    "print (combined_tuple)\n",
    "print(sorted(combined_tuple))\n",
    "print (combined_tuple.count(5))\n",
    "print(sorted(combined_tuple)[-1])\n",
    "print(max(combined_tuple))\n"
   ]
  },
  {
   "cell_type": "code",
   "execution_count": 122,
   "metadata": {},
   "outputs": [
    {
     "name": "stdout",
     "output_type": "stream",
     "text": [
      "range(0, 10)\n",
      "<class 'range'>\n",
      "[0, 1, 2, 3, 4, 5, 6, 7, 8, 9]\n",
      "[-4, -3, -2, -1, 0, 1, 2, 3, 4, 5, 6, 7, 8, 9]\n",
      "[-4, -1, 2, 5, 8]\n"
     ]
    }
   ],
   "source": [
    "#range\n",
    "print(range(10))\n",
    "print(type(range(10)))\n",
    "print(list(range(10)))\n",
    "print(list(range(-4,10)))\n",
    "print(list(range(-4,10,3)))"
   ]
  },
  {
   "cell_type": "code",
   "execution_count": 124,
   "metadata": {},
   "outputs": [
    {
     "name": "stdout",
     "output_type": "stream",
     "text": [
      "Vilnius\n",
      "Kaunas\n",
      "London\n"
     ]
    }
   ],
   "source": [
    "#loop, for loop\n",
    "cities = ['Vilnius','Kaunas','London']\n",
    "\n",
    "for city in cities:\n",
    "    print(city)"
   ]
  },
  {
   "cell_type": "code",
   "execution_count": 126,
   "metadata": {},
   "outputs": [
    {
     "name": "stdout",
     "output_type": "stream",
     "text": [
      "hello\n",
      "Vilnius\n",
      "hello\n",
      "Kaunas\n",
      "hello\n",
      "London\n"
     ]
    }
   ],
   "source": [
    "for city in cities:\n",
    "    print('hello')\n",
    "    print(city)"
   ]
  },
  {
   "cell_type": "code",
   "execution_count": 127,
   "metadata": {},
   "outputs": [
    {
     "name": "stdout",
     "output_type": "stream",
     "text": [
      "Vilnius is a beautiful city!\n",
      "Kaunas is a beautiful city!\n",
      "London is a beautiful city!\n"
     ]
    }
   ],
   "source": [
    "for city in cities:\n",
    "        print(f'{city} is a beautiful city!')"
   ]
  },
  {
   "cell_type": "code",
   "execution_count": 129,
   "metadata": {},
   "outputs": [
    {
     "name": "stdout",
     "output_type": "stream",
     "text": [
      "3^2 = 9\n",
      "7^2 = 49\n",
      "11^2 = 121\n",
      "15^2 = 225\n",
      "19^2 = 361\n",
      "23^2 = 529\n",
      "27^2 = 729\n",
      "31^2 = 961\n",
      "35^2 = 1225\n",
      "39^2 = 1521\n",
      "43^2 = 1849\n",
      "47^2 = 2209\n",
      "51^2 = 2601\n"
     ]
    }
   ],
   "source": [
    "for number in range(3,55,4):\n",
    "    print(f'{number}^2 = {number**2}')"
   ]
  },
  {
   "cell_type": "code",
   "execution_count": null,
   "metadata": {},
   "outputs": [],
   "source": []
  },
  {
   "cell_type": "code",
   "execution_count": null,
   "metadata": {},
   "outputs": [],
   "source": []
  },
  {
   "cell_type": "code",
   "execution_count": null,
   "metadata": {},
   "outputs": [],
   "source": []
  }
 ],
 "metadata": {
  "kernelspec": {
   "display_name": "Python 3",
   "language": "python",
   "name": "python3"
  },
  "language_info": {
   "codemirror_mode": {
    "name": "ipython",
    "version": 3
   },
   "file_extension": ".py",
   "mimetype": "text/x-python",
   "name": "python",
   "nbconvert_exporter": "python",
   "pygments_lexer": "ipython3",
   "version": "3.11.2"
  },
  "orig_nbformat": 4,
  "vscode": {
   "interpreter": {
    "hash": "4e73e8d8f89bdd539245a9679ef8d9d36b829ee2c1c672402cc0b5e6efc46637"
   }
  }
 },
 "nbformat": 4,
 "nbformat_minor": 2
}
