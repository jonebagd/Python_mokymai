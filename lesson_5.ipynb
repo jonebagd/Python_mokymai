{
 "cells": [
  {
   "cell_type": "code",
   "execution_count": 1,
   "metadata": {},
   "outputs": [
    {
     "name": "stdout",
     "output_type": "stream",
     "text": [
      "[3, 6, 9, 12, 15, 18]\n"
     ]
    }
   ],
   "source": [
    "#list comprehensions\n",
    "\n",
    "numbers = list(range(1,21))\n",
    "dividible_by_3 = [number for number in numbers if number % 3==0]\n",
    "print(dividible_by_3)"
   ]
  },
  {
   "cell_type": "code",
   "execution_count": 2,
   "metadata": {},
   "outputs": [
    {
     "name": "stdout",
     "output_type": "stream",
     "text": [
      "[30, 60, 90, 120, 150, 180]\n"
     ]
    }
   ],
   "source": [
    "dividible_by_3_times_10 = [number*10 for number in numbers if number % 3==0]\n",
    "print(dividible_by_3_times_10)"
   ]
  },
  {
   "cell_type": "code",
   "execution_count": 5,
   "metadata": {},
   "outputs": [
    {
     "name": "stdout",
     "output_type": "stream",
     "text": [
      "['not dividible', 'not dividible', 3, 'not dividible', 'not dividible', 6, 'not dividible', 'not dividible', 9, 'not dividible', 'not dividible', 12, 'not dividible', 'not dividible', 15, 'not dividible', 'not dividible', 18, 'not dividible', 'not dividible']\n"
     ]
    }
   ],
   "source": [
    "dividible_by_3 = [number if number%3==0 else 'not dividible' for number in numbers]\n",
    "print(dividible_by_3)"
   ]
  },
  {
   "cell_type": "code",
   "execution_count": 6,
   "metadata": {},
   "outputs": [
    {
     "name": "stdout",
     "output_type": "stream",
     "text": [
      "[2, 4, 6, 8, 10, 12, 14, 16, 18, 20, 22, 24, 26, 28, 30, 32, 34, 36, 38, 40]\n"
     ]
    }
   ],
   "source": [
    "doubled = [number*2 for number in numbers]\n",
    "print(doubled)"
   ]
  },
  {
   "cell_type": "code",
   "execution_count": 8,
   "metadata": {},
   "outputs": [
    {
     "name": "stdout",
     "output_type": "stream",
     "text": [
      "{1, 2, 3, 100, 4, 'a', 'b'}\n",
      "7\n"
     ]
    }
   ],
   "source": [
    "# sets\n",
    "\n",
    "my_set = {100,1,2,3,4,1,1,1,1,1,'a', 'b'}\n",
    "print(my_set)\n",
    "print(len(my_set))\n"
   ]
  },
  {
   "cell_type": "code",
   "execution_count": 9,
   "metadata": {},
   "outputs": [
    {
     "name": "stdout",
     "output_type": "stream",
     "text": [
      "[1, 2, 3, 100, 4, 'a', 'b']\n"
     ]
    }
   ],
   "source": [
    "set_list = list(my_set)\n",
    "print(set_list)"
   ]
  },
  {
   "cell_type": "code",
   "execution_count": 17,
   "metadata": {},
   "outputs": [
    {
     "name": "stdout",
     "output_type": "stream",
     "text": [
      "False\n",
      "True\n",
      "False\n",
      "{3, 4, 'a', 5, 200, 100, 300, 'b'}\n",
      "{3, 4, 'a', 5, 200, 100, 300, 'b'}\n",
      "{4, 'a', 5, 200, 100, 300, 'b'}\n",
      "{4, 'a', 200, 100, 300, 'b'}\n",
      "{4, 200, 100, 300, 'b'}\n"
     ]
    }
   ],
   "source": [
    "print(1 in my_set)\n",
    "print('a' in my_set)\n",
    "print('c' in my_set)\n",
    "my_set.add(5)\n",
    "print(my_set)\n",
    "my_set.update([100,200,300])\n",
    "print(my_set)\n",
    "my_set.pop()\n",
    "print(my_set)\n",
    "my_set.remove(5)\n",
    "print(my_set)\n",
    "my_set.discard('a')\n",
    "print(my_set)"
   ]
  },
  {
   "cell_type": "code",
   "execution_count": 21,
   "metadata": {},
   "outputs": [
    {
     "name": "stdout",
     "output_type": "stream",
     "text": [
      "{1, 3, 4, 5, 6, 7, 8, 9}\n",
      "{1, 3}\n",
      "{8, 9, 4, 6}\n",
      "{5, 7}\n"
     ]
    }
   ],
   "source": [
    "my_set_1 = {1,3,5,7}\n",
    "my_set_2 = {4,5,6,7,8,9}\n",
    "\n",
    "print(my_set_1.union(my_set_2))\n",
    "print(my_set_1.difference(my_set_2))\n",
    "print(my_set_2.difference(my_set_1))\n",
    "\n",
    "print(my_set_1.intersection(my_set_2))"
   ]
  },
  {
   "cell_type": "code",
   "execution_count": 24,
   "metadata": {},
   "outputs": [
    {
     "name": "stdout",
     "output_type": "stream",
     "text": [
      "True\n",
      "False\n",
      "False\n",
      "True\n"
     ]
    }
   ],
   "source": [
    "small_set = {2,4}\n",
    "big_set = {1,2,3,4,5}\n",
    "\n",
    "print(small_set.issubset(big_set))\n",
    "print(big_set.issubset(small_set))\n",
    "\n",
    "print(small_set.issuperset(big_set))\n",
    "print(big_set.issuperset(small_set))"
   ]
  },
  {
   "cell_type": "code",
   "execution_count": 32,
   "metadata": {},
   "outputs": [
    {
     "name": "stdout",
     "output_type": "stream",
     "text": [
      "{('new_value', 5), 'banana', 'cherry', 'apple'}\n",
      "{'banana', 'cherry', 'watermelon'}\n",
      "{'banana', 'cherry', 'apple', 'watermelon'}\n",
      "{'plum', 'apple', 'pear', 'strawberry', 'banana', 'cherry', 'watermelon'}\n",
      "{'plum', 'pear', 'strawberry', 'banana', 'cherry', 'watermelon'}\n",
      "6\n",
      "{'plum', 'pear', 'strawberry', 'banana', 'cherry', 'watermelon'}\n",
      "6\n"
     ]
    }
   ],
   "source": [
    "#tasks\n",
    "\n",
    "fruits = {\"apple\",\"banana\",\"cherry\"}\n",
    "fruits.add((\"new_value\",5))\n",
    "print(fruits)\n",
    "\n",
    "\n",
    "\n",
    "fruits = {\"apple\",\"banana\",\"cherry\"}\n",
    "fruits.discard(\"apple\")\n",
    "fruits.add(\"watermelon\")\n",
    "print(fruits)\n",
    "\n",
    "fruits = {\"apple\",\"banana\",\"cherry\"}\n",
    "fruits.add(\"watermelon\")\n",
    "print(fruits)\n",
    "fruits.update([\"strawberry\",\"cherry\",\"pear\",\"plum\"])\n",
    "print(fruits)\n",
    "fruits.remove(\"apple\")\n",
    "print(fruits)\n",
    "print(len(fruits))\n",
    "fruits.add(\"pear\")\n",
    "print(fruits)\n",
    "print(len(fruits))"
   ]
  },
  {
   "cell_type": "code",
   "execution_count": 44,
   "metadata": {},
   "outputs": [
    {
     "name": "stdout",
     "output_type": "stream",
     "text": [
      " is this real life is this just fantasy caught in a landslide no escape from reality open your eyes look up to skies and see im just a poor boy i need no sympathy because im easy come easy go little high little low any way wind blows doesnt really matter to me to me mama just killed a man put a gun against his head pulled my trigger now hes dead mama life had just begun but now ive gone and thrown it all away mama ooh didnt mean to make you cry if im not back again this time tomorrow carry on carry on as if nothing really matters \n"
     ]
    }
   ],
   "source": [
    "song=\"\"\"\n",
    "Is this the real life? Is this just fantasy?\n",
    "Caught in a landslide, no escape from reality\n",
    "Open your eyes, look up to the skies and see\n",
    "I'm just a poor boy, I need no sympathy\n",
    "Because I'm easy come, easy go, little high, little low\n",
    "Any way the wind blows doesn't really matter to me, to me\n",
    "Mama, just killed a man\n",
    "Put a gun against his head, pulled my trigger, now he's dead\n",
    "Mama, life had just begun\n",
    "But now I've gone and thrown it all away\n",
    "Mama, ooh, didn't mean to make you cry\n",
    "If I'm not back again this time tomorrow\n",
    "Carry on, carry on as if nothing really matters\n",
    "\"\"\"\n",
    "\n",
    "fix_song = song.lower().replace('the ','').replace('\\'','').replace('?','').replace(',','').replace('\\n',' ')\n",
    "print(fix_song)\n",
    "\n"
   ]
  },
  {
   "cell_type": "code",
   "execution_count": 49,
   "metadata": {},
   "outputs": [
    {
     "name": "stdout",
     "output_type": "stream",
     "text": [
      "['', 'is', 'this', 'real', 'life', 'is', 'this', 'just', 'fantasy', 'caught', 'in', 'a', 'landslide', 'no', 'escape', 'from', 'reality', 'open', 'your', 'eyes', 'look', 'up', 'to', 'skies', 'and', 'see', 'im', 'just', 'a', 'poor', 'boy', 'i', 'need', 'no', 'sympathy', 'because', 'im', 'easy', 'come', 'easy', 'go', 'little', 'high', 'little', 'low', 'any', 'way', 'wind', 'blows', 'doesnt', 'really', 'matter', 'to', 'me', 'to', 'me', 'mama', 'just', 'killed', 'a', 'man', 'put', 'a', 'gun', 'against', 'his', 'head', 'pulled', 'my', 'trigger', 'now', 'hes', 'dead', 'mama', 'life', 'had', 'just', 'begun', 'but', 'now', 'ive', 'gone', 'and', 'thrown', 'it', 'all', 'away', 'mama', 'ooh', 'didnt', 'mean', 'to', 'make', 'you', 'cry', 'if', 'im', 'not', 'back', 'again', 'this', 'time', 'tomorrow', 'carry', 'on', 'carry', 'on', 'as', 'if', 'nothing', 'really', 'matters', '']\n",
      "{'ooh', 'just', 'come', 'fantasy', 'on', 'begun', 'time', 'up', 'need', 'it', 'killed', 'look', 'hes', 'in', 'eyes', 'really', 'to', 'dead', 'skies', 'blows', 'from', 'reality', 'boy', 'as', 'gone', 'because', 'and', 'i', 'carry', 'away', 'my', 'make', 'against', 'cry', 'if', 'didnt', 'again', 'doesnt', 'real', 'put', 'not', 'see', 'im', 'little', 'now', 'escape', 'caught', 'but', 'matter', 'open', 'ive', 'tomorrow', 'head', 'this', 'high', 'trigger', 'no', 'pulled', 'man', 'gun', 'all', 'poor', 'sympathy', 'thrown', 'your', 'easy', 'way', 'had', 'matters', 'me', 'low', 'landslide', 'mean', 'nothing', 'life', 'a', 'wind', 'you', 'go', 'is', 'back', 'mama', 'any', 'his'}\n",
      "84\n"
     ]
    }
   ],
   "source": [
    "words = fix_song.split(' ')\n",
    "print(words)\n",
    "unique_words = set(words)\n",
    "unique_words.discard('')\n",
    "print(unique_words)\n",
    "print(len(unique_words))"
   ]
  },
  {
   "cell_type": "code",
   "execution_count": 50,
   "metadata": {},
   "outputs": [
    {
     "name": "stdout",
     "output_type": "stream",
     "text": [
      "{'ooh': 1, 'just': 4, 'come': 1, 'fantasy': 1, 'on': 2, 'begun': 1, 'time': 1, 'up': 1, 'need': 1, 'it': 1, 'killed': 1, 'look': 1, 'hes': 1, 'in': 1, 'eyes': 1, 'really': 2, 'to': 4, 'dead': 1, 'skies': 1, 'blows': 1, 'from': 1, 'reality': 1, 'boy': 1, 'as': 1, 'gone': 1, 'because': 1, 'and': 2, 'i': 1, 'carry': 2, 'away': 1, 'my': 1, 'make': 1, 'against': 1, 'cry': 1, 'if': 2, 'didnt': 1, 'again': 1, 'doesnt': 1, 'real': 1, 'put': 1, 'not': 1, 'see': 1, 'im': 3, 'little': 2, 'now': 2, 'escape': 1, 'caught': 1, 'but': 1, 'matter': 1, 'open': 1, 'ive': 1, 'tomorrow': 1, 'head': 1, 'this': 3, 'high': 1, 'trigger': 1, 'no': 2, 'pulled': 1, 'man': 1, 'gun': 1, 'all': 1, 'poor': 1, 'sympathy': 1, 'thrown': 1, 'your': 1, 'easy': 2, 'way': 1, 'had': 1, 'matters': 1, 'me': 2, 'low': 1, 'landslide': 1, 'mean': 1, 'nothing': 1, 'life': 2, 'a': 4, 'wind': 1, 'you': 1, 'go': 1, 'is': 2, 'back': 1, 'mama': 3, 'any': 1, 'his': 1}\n"
     ]
    }
   ],
   "source": [
    "counts = {}\n",
    "for unique_word in unique_words:\n",
    "    counts[unique_word] = words.count(unique_word)\n",
    "print(counts)"
   ]
  }
 ],
 "metadata": {
  "kernelspec": {
   "display_name": "Python 3",
   "language": "python",
   "name": "python3"
  },
  "language_info": {
   "codemirror_mode": {
    "name": "ipython",
    "version": 3
   },
   "file_extension": ".py",
   "mimetype": "text/x-python",
   "name": "python",
   "nbconvert_exporter": "python",
   "pygments_lexer": "ipython3",
   "version": "3.11.2"
  },
  "orig_nbformat": 4
 },
 "nbformat": 4,
 "nbformat_minor": 2
}
