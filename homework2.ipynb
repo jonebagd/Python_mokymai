{
 "cells": [
  {
   "cell_type": "code",
   "execution_count": 1,
   "metadata": {},
   "outputs": [
    {
     "name": "stdout",
     "output_type": "stream",
     "text": [
      "\n",
      "Fizz\n",
      "Buzz\n",
      "Fizz\n",
      "\n",
      "FizzBuzz\n",
      "\n",
      "Fizz\n",
      "Buzz\n",
      "Fizz\n",
      "\n",
      "FizzBuzz\n",
      "\n",
      "Fizz\n",
      "Buzz\n",
      "Fizz\n",
      "\n",
      "FizzBuzz\n",
      "\n",
      "Fizz\n",
      "Buzz\n",
      "Fizz\n",
      "\n",
      "FizzBuzz\n",
      "\n",
      "Fizz\n",
      "Buzz\n",
      "Fizz\n",
      "\n",
      "FizzBuzz\n",
      "\n",
      "Fizz\n",
      "Buzz\n",
      "Fizz\n",
      "\n",
      "FizzBuzz\n",
      "\n",
      "Fizz\n",
      "Buzz\n",
      "Fizz\n",
      "\n",
      "FizzBuzz\n",
      "\n",
      "Fizz\n",
      "Buzz\n",
      "Fizz\n",
      "\n",
      "FizzBuzz\n",
      "\n",
      "Fizz\n",
      "Buzz\n",
      "Fizz\n",
      "\n",
      "FizzBuzz\n",
      "\n",
      "Fizz\n",
      "Buzz\n",
      "Fizz\n",
      "\n",
      "FizzBuzz\n",
      "\n",
      "Fizz\n",
      "Buzz\n",
      "Fizz\n",
      "\n",
      "FizzBuzz\n",
      "\n",
      "Fizz\n",
      "Buzz\n",
      "Fizz\n",
      "\n",
      "FizzBuzz\n",
      "\n",
      "Fizz\n",
      "Buzz\n",
      "Fizz\n",
      "\n",
      "FizzBuzz\n",
      "\n",
      "Fizz\n",
      "Buzz\n",
      "Fizz\n",
      "\n",
      "FizzBuzz\n",
      "\n",
      "Fizz\n",
      "Buzz\n",
      "Fizz\n",
      "\n",
      "FizzBuzz\n",
      "\n",
      "Fizz\n",
      "Buzz\n",
      "Fizz\n",
      "\n",
      "FizzBuzz\n",
      "\n",
      "Fizz\n",
      "Buzz\n",
      "Fizz\n"
     ]
    }
   ],
   "source": [
    "#1. From the first 100 numbers, if the number is divisible by 2 without a residue, print ‘Fizz’, \n",
    "#if the number is divisible by 3 without a residue, print ‘Buzz’, \n",
    "#if the number is divisible by 2 and 3 without a residue, print ‘FizzBuzz’\n",
    "\n",
    "for i in range(1,101):\n",
    "    if i % 2 == 0 and i % 3 == 0:\n",
    "        print('FizzBuzz')\n",
    "    elif i % 2 == 0:\n",
    "        print('Fizz')\n",
    "    elif i % 3 == 0:\n",
    "        print('Buzz')\n",
    "    else:\n",
    "        print('')"
   ]
  },
  {
   "cell_type": "code",
   "execution_count": 4,
   "metadata": {},
   "outputs": [
    {
     "name": "stdout",
     "output_type": "stream",
     "text": [
      "20\n",
      "1\n",
      "2\n",
      "3\n",
      "4\n",
      "6\n",
      "7\n",
      "8\n",
      "9\n",
      "11\n",
      "12\n",
      "13\n",
      "14\n",
      "16\n",
      "17\n",
      "18\n",
      "19\n"
     ]
    }
   ],
   "source": [
    "#2. Let's choose a number, if the number entered is greater than or equal to 10. go through all numbers from 1 to entered number and  print numbers that divide by 5 with the remainder\n",
    "\n",
    "number = int(input(\"Enter a number\"))\n",
    "print(number)\n",
    "\n",
    "if number >= 10:\n",
    "    for i in range (1,number):\n",
    "        if i % 5 !=0:\n",
    "            print(i)\n"
   ]
  },
  {
   "cell_type": "code",
   "execution_count": 10,
   "metadata": {},
   "outputs": [
    {
     "name": "stdout",
     "output_type": "stream",
     "text": [
      "[('1', 'hi', '100'), ('1', 'hi', '200'), ('1', 'hi', 40), ('1', 'hi', 10), ('1', 'evening', '100'), ('1', 'evening', '200'), ('1', 'evening', 40), ('1', 'evening', 10), ('1', 'what a beautiful day', '100'), ('1', 'what a beautiful day', '200'), ('1', 'what a beautiful day', 40), ('1', 'what a beautiful day', 10), ('1', 'weather', '100'), ('1', 'weather', '200'), ('1', 'weather', 40), ('1', 'weather', 10), ('1', '10 degrees outside', '100'), ('1', '10 degrees outside', '200'), ('1', '10 degrees outside', 40), ('1', '10 degrees outside', 10), ('2', 'hi', '100'), ('2', 'hi', '200'), ('2', 'hi', 40), ('2', 'hi', 10), ('2', 'evening', '100'), ('2', 'evening', '200'), ('2', 'evening', 40), ('2', 'evening', 10), ('2', 'what a beautiful day', '100'), ('2', 'what a beautiful day', '200'), ('2', 'what a beautiful day', 40), ('2', 'what a beautiful day', 10), ('2', 'weather', '100'), ('2', 'weather', '200'), ('2', 'weather', 40), ('2', 'weather', 10), ('2', '10 degrees outside', '100'), ('2', '10 degrees outside', '200'), ('2', '10 degrees outside', 40), ('2', '10 degrees outside', 10), ('3', 'hi', '100'), ('3', 'hi', '200'), ('3', 'hi', 40), ('3', 'hi', 10), ('3', 'evening', '100'), ('3', 'evening', '200'), ('3', 'evening', 40), ('3', 'evening', 10), ('3', 'what a beautiful day', '100'), ('3', 'what a beautiful day', '200'), ('3', 'what a beautiful day', 40), ('3', 'what a beautiful day', 10), ('3', 'weather', '100'), ('3', 'weather', '200'), ('3', 'weather', 40), ('3', 'weather', 10), ('3', '10 degrees outside', '100'), ('3', '10 degrees outside', '200'), ('3', '10 degrees outside', 40), ('3', '10 degrees outside', 10), ('4', 'hi', '100'), ('4', 'hi', '200'), ('4', 'hi', 40), ('4', 'hi', 10), ('4', 'evening', '100'), ('4', 'evening', '200'), ('4', 'evening', 40), ('4', 'evening', 10), ('4', 'what a beautiful day', '100'), ('4', 'what a beautiful day', '200'), ('4', 'what a beautiful day', 40), ('4', 'what a beautiful day', 10), ('4', 'weather', '100'), ('4', 'weather', '200'), ('4', 'weather', 40), ('4', 'weather', 10), ('4', '10 degrees outside', '100'), ('4', '10 degrees outside', '200'), ('4', '10 degrees outside', 40), ('4', '10 degrees outside', 10), ('5', 'hi', '100'), ('5', 'hi', '200'), ('5', 'hi', 40), ('5', 'hi', 10), ('5', 'evening', '100'), ('5', 'evening', '200'), ('5', 'evening', 40), ('5', 'evening', 10), ('5', 'what a beautiful day', '100'), ('5', 'what a beautiful day', '200'), ('5', 'what a beautiful day', 40), ('5', 'what a beautiful day', 10), ('5', 'weather', '100'), ('5', 'weather', '200'), ('5', 'weather', 40), ('5', 'weather', 10), ('5', '10 degrees outside', '100'), ('5', '10 degrees outside', '200'), ('5', '10 degrees outside', 40), ('5', '10 degrees outside', 10)]\n"
     ]
    }
   ],
   "source": [
    "# 3. What is the length of a list made up of combinations of lists provided if we want to find all possible values? \n",
    "#Sort the list from highest to lowest. Might need to do some manipulation or find some help on the internet\n",
    "\n",
    "aa = ['1','2','3','4','5']\n",
    "bb = ['hi', 'evening', 'what a beautiful day', 'weather', '10 degrees outside'] \n",
    "cc = ['100', '200', 40, 10]\n",
    "\n",
    "list = [(a,b,c) for a in aa for b in bb for c in cc]\n",
    "\n",
    "print(list)\n",
    "\n"
   ]
  },
  {
   "cell_type": "code",
   "execution_count": 5,
   "metadata": {},
   "outputs": [
    {
     "name": "stdout",
     "output_type": "stream",
     "text": [
      "Ford\n",
      "3\n",
      "{'brand': 'Ford', 'model': 'Mustang', 'year': 2020}\n"
     ]
    }
   ],
   "source": [
    "#4. get value ‘Ford’, get the length of the dictionary car, change the year to 2020\n",
    "\n",
    "car =    {\n",
    "  \"brand\": \"Ford\",\n",
    "  \"model\": \"Mustang\",\n",
    "  \"year\": 1964\n",
    "}\n",
    "\n",
    "print(car[\"brand\"])\n",
    "print(len(car))\n",
    "update_dict = {\"year\": 2020}\n",
    "car.update(update_dict)\n",
    "print(car)"
   ]
  },
  {
   "cell_type": "code",
   "execution_count": 6,
   "metadata": {},
   "outputs": [
    {
     "name": "stdout",
     "output_type": "stream",
     "text": [
      "{'brand': 'Ford', 'model': 'Mustang', 'year': 2020, 'color': 'red', 'used': True}\n"
     ]
    }
   ],
   "source": [
    "# 5. Add new values to the existing dictionary (from task 4.)\n",
    "#‘color’ = ‘red’\n",
    "#‘used’ =  True\n",
    "\n",
    "update_dict = {\"color\": \"red\", \"used\": True}\n",
    "car.update(update_dict)\n",
    "print(car)"
   ]
  },
  {
   "cell_type": "code",
   "execution_count": 8,
   "metadata": {},
   "outputs": [
    {
     "name": "stdout",
     "output_type": "stream",
     "text": [
      "{'year': 'None', 'color': 'red', 'used': True}\n"
     ]
    }
   ],
   "source": [
    "#6. Delete the ‘brand’ key and value from the following dictionary and change the value of year to None.\n",
    "\n",
    "car1 =    {\n",
    "  \"brand\": \"Ford\",\n",
    "  \"year\": 1992,\n",
    "  \"color\": \"red\",\n",
    "  \"used\":  True\n",
    "}\n",
    "\n",
    "del car1[\"brand\"]\n",
    "update_dict = {\"year\": \"None\"}\n",
    "car1.update(update_dict)\n",
    "print(car1)"
   ]
  }
 ],
 "metadata": {
  "kernelspec": {
   "display_name": "Python 3",
   "language": "python",
   "name": "python3"
  },
  "language_info": {
   "codemirror_mode": {
    "name": "ipython",
    "version": 3
   },
   "file_extension": ".py",
   "mimetype": "text/x-python",
   "name": "python",
   "nbconvert_exporter": "python",
   "pygments_lexer": "ipython3",
   "version": "3.11.2"
  },
  "orig_nbformat": 4
 },
 "nbformat": 4,
 "nbformat_minor": 2
}
