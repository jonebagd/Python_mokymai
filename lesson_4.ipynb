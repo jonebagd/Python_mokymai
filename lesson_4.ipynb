{
 "cells": [
  {
   "cell_type": "code",
   "execution_count": null,
   "metadata": {},
   "outputs": [],
   "source": [
    "#if statement"
   ]
  },
  {
   "cell_type": "code",
   "execution_count": 3,
   "metadata": {},
   "outputs": [
    {
     "name": "stdout",
     "output_type": "stream",
     "text": [
      "19\n",
      "You are above 18 years old\n"
     ]
    }
   ],
   "source": [
    "age = int(input(\"Enter your age\"))\n",
    "print(age)\n",
    "\n",
    "if age >= 18:\n",
    "    print(f'You are above 18 years old')"
   ]
  },
  {
   "cell_type": "code",
   "execution_count": 5,
   "metadata": {},
   "outputs": [
    {
     "name": "stdout",
     "output_type": "stream",
     "text": [
      "15\n",
      "You are between 12 and 18 year old\n"
     ]
    }
   ],
   "source": [
    "age = int(input(\"Enter your age\"))\n",
    "print(age)\n",
    "\n",
    "#order of if statements are important\n",
    "\n",
    "if age >= 18:\n",
    "    print(f'You are above 18 years old')\n",
    "elif age >= 12:\n",
    "    print('You are between 12 and 18 year old')\n",
    "elif age >= 8:\n",
    "    print('You are between 8 and 12 year old') #tikrina eiles tvarka\n",
    "else:\n",
    "    print(f'You are under 18 years old')"
   ]
  },
  {
   "cell_type": "code",
   "execution_count": 8,
   "metadata": {},
   "outputs": [
    {
     "name": "stdout",
     "output_type": "stream",
     "text": [
      "16\n",
      "16 is not dividable by 3\n"
     ]
    }
   ],
   "source": [
    "number = int(input(\"Enter a number\"))\n",
    "#print(number)\n",
    "\n",
    "if number % 3 == 0:\n",
    "    print(f'{number} is dividable by 3')\n",
    "else:\n",
    "    print(f'{number} is not dividable by 3')"
   ]
  },
  {
   "cell_type": "code",
   "execution_count": 17,
   "metadata": {},
   "outputs": [
    {
     "name": "stdout",
     "output_type": "stream",
     "text": [
      "3\n",
      "6\n",
      "9\n",
      "2\n",
      "6\n",
      "12\n",
      "20\n",
      "30\n",
      "42\n",
      "56\n",
      "72\n",
      "90\n",
      "110\n",
      "132\n",
      "156\n",
      "182\n",
      "210\n",
      "240\n",
      "272\n",
      "306\n",
      "342\n",
      "380\n",
      "420\n",
      "462\n",
      "506\n",
      "552\n",
      "600\n",
      "650\n"
     ]
    }
   ],
   "source": [
    "#tasks\n",
    "#for loop\n",
    "\n",
    "#print  the first 20 numbers which are divisible by 3 withiuyt a remainder using for loop and if\n",
    "\n",
    "for i in range(1,21):\n",
    "    if i % 3 == 0:\n",
    "        print (i)\n",
    "    if i > 10:\n",
    "        break\n",
    "\n",
    "\n",
    "#get the amount of the first 50 digits inclusive only if the new current amount is even\n",
    "current_amount = 0\n",
    "for i in range (1,51):\n",
    "        if(current_amount+i)%2==0:\n",
    "            current_amount +=i\n",
    "            print(current_amount)\n",
    "\n",
    "\n",
    "#let select a number, print its product from 1 to 10 only if the selected number squarred is odd\n",
    "\n",
    "\n"
   ]
  },
  {
   "cell_type": "code",
   "execution_count": 24,
   "metadata": {},
   "outputs": [
    {
     "name": "stdout",
     "output_type": "stream",
     "text": [
      "[('Monday', 12), ('Monday', 13), ('Monday', 14), ('Monday', 15), ('Monday', 16), ('Monday', 17), ('Wednesday', 12), ('Wednesday', 13), ('Wednesday', 14), ('Wednesday', 15), ('Wednesday', 16), ('Wednesday', 17)]\n"
     ]
    }
   ],
   "source": [
    "#get all possible combinations from these lists only if the day is either Monday ir Wednesday.\n",
    "\n",
    "days = ('Monday', 'Tuesday', 'Wednesday', 'Thursday', 'Friday', 'Saturday' , 'Sunday')\n",
    "hours = [10, 11, 12, 13, 14, 15, 16, 17, 18, 19]\n",
    "\n",
    "combination =[]\n",
    "\n",
    "for day in days:\n",
    "    if day in['Monday','Wednesday']:\n",
    "        for hour in hours:\n",
    "        #print(day, hour)\n",
    "            if hour in range(12,18):\n",
    "                combination.append((day,hour))\n",
    "\n",
    "print(combination)\n",
    "\n",
    "\n"
   ]
  },
  {
   "cell_type": "code",
   "execution_count": 25,
   "metadata": {},
   "outputs": [
    {
     "name": "stdout",
     "output_type": "stream",
     "text": [
      "None\n",
      "<class 'NoneType'>\n"
     ]
    }
   ],
   "source": [
    "#none declaration aka null, nill, NaN\n",
    "\n",
    "nothing = None\n",
    "print(nothing)\n",
    "print(type(nothing))\n"
   ]
  },
  {
   "cell_type": "code",
   "execution_count": 27,
   "metadata": {},
   "outputs": [
    {
     "name": "stdout",
     "output_type": "stream",
     "text": [
      "Hello jone\n"
     ]
    }
   ],
   "source": [
    "import random\n",
    "\n",
    "name = None\n",
    "\n",
    "if random.random()>0.5:\n",
    "    name = input('Enter your name:')\n",
    "\n",
    "if name is not None and name != '':\n",
    "    print(f'Hello {name}')\n",
    "elif name is not None and name =='':\n",
    "    print(f'We cound\\'t read your name. Please try again')\n",
    "else:\n",
    "    print('we didn\\'t ask for the name')"
   ]
  },
  {
   "cell_type": "code",
   "execution_count": 28,
   "metadata": {},
   "outputs": [
    {
     "name": "stdout",
     "output_type": "stream",
     "text": [
      "{'name': 'Jone', 'surname': 'Bagdone', 'hobbies': ['powerlifting', 'reading'], 'age': 20}\n"
     ]
    }
   ],
   "source": [
    "#Dictionary\n",
    "\n",
    "me ={\n",
    "    'name': 'Jone',\n",
    "    'surname': 'Bagdone',\n",
    "    'hobbies': ['powerlifting', 'reading'],\n",
    "    'age': 20\n",
    "}\n",
    "\n",
    "print(me)"
   ]
  },
  {
   "cell_type": "code",
   "execution_count": 32,
   "metadata": {},
   "outputs": [
    {
     "name": "stdout",
     "output_type": "stream",
     "text": [
      "Jone\n",
      "['powerlifting', 'reading']\n"
     ]
    }
   ],
   "source": [
    "print(me['name'])\n",
    "print(me['hobbies'])"
   ]
  },
  {
   "cell_type": "code",
   "execution_count": 34,
   "metadata": {},
   "outputs": [
    {
     "name": "stdout",
     "output_type": "stream",
     "text": [
      "{'name': 'Jone', 'surname': 'Bagdone', 'hobbies': ['powerlifting', 'reading'], 'age': 20, 'country': 'Lithuania'}\n"
     ]
    }
   ],
   "source": [
    "me['country']= 'Lithuania'\n",
    "print(me)"
   ]
  },
  {
   "cell_type": "code",
   "execution_count": 37,
   "metadata": {},
   "outputs": [
    {
     "name": "stdout",
     "output_type": "stream",
     "text": [
      "True value\n",
      "False value\n",
      "Number 2\n"
     ]
    }
   ],
   "source": [
    "strange_dict = {\n",
    "    True: 'True value',\n",
    "    False: 'False value',\n",
    "    None: 'None value',\n",
    "    2: 'Number 2'\n",
    "}\n",
    "print(strange_dict[True])\n",
    "print(strange_dict[False])\n",
    "print(strange_dict[2])"
   ]
  },
  {
   "cell_type": "code",
   "execution_count": 41,
   "metadata": {},
   "outputs": [
    {
     "name": "stdout",
     "output_type": "stream",
     "text": [
      "[{'name': 'John', 'age': 30}, {'name': 'Ben', 'age': 28}]\n",
      "{'name': 'John', 'age': 30}\n",
      "John\n",
      "your name is John and your age is 30\n",
      "your name is Ben and your age is 28\n"
     ]
    }
   ],
   "source": [
    "people = [\n",
    "     {'name': 'John', 'age':30},\n",
    "     {'name':'Ben', 'age': 28}\n",
    "]\n",
    "\n",
    "print(people)\n",
    "print(people[0])\n",
    "print(people[0]['name'])\n",
    "\n",
    "for person in people:\n",
    "    print(f\"your name is {person['name']} and your age is {person['age']}\")"
   ]
  },
  {
   "cell_type": "code",
   "execution_count": 42,
   "metadata": {},
   "outputs": [
    {
     "name": "stdout",
     "output_type": "stream",
     "text": [
      "{'name': 'Jone', 'surname': 'Bagdone', 'hobbies': ['powerlifting', 'reading'], 'age': 20, 'country': 'Lithuania'}\n",
      "5\n"
     ]
    }
   ],
   "source": [
    "print(me)\n",
    "print(len(me))"
   ]
  },
  {
   "cell_type": "code",
   "execution_count": null,
   "metadata": {},
   "outputs": [],
   "source": [
    "#deleting pairs"
   ]
  },
  {
   "cell_type": "code",
   "execution_count": 46,
   "metadata": {},
   "outputs": [
    {
     "name": "stdout",
     "output_type": "stream",
     "text": [
      "{'name': 'Jone', 'surname': 'Bagdone', 'hobbies': ['powerlifting', 'reading'], 'age': 20}\n",
      "20\n",
      "{'name': 'Jone', 'surname': 'Bagdone', 'hobbies': ['powerlifting', 'reading']}\n",
      "{'name': 'Jone', 'surname': 'Bagdone'}\n"
     ]
    }
   ],
   "source": [
    "me ={\n",
    "    'name': 'Jone',\n",
    "    'surname': 'Bagdone',\n",
    "    'hobbies': ['powerlifting', 'reading'],\n",
    "    'age': 20\n",
    "}\n",
    "\n",
    "print(me)\n",
    "print(me.pop('age'))\n",
    "print(me)\n",
    "del me['hobbies']\n",
    "print(me)"
   ]
  },
  {
   "cell_type": "code",
   "execution_count": 47,
   "metadata": {},
   "outputs": [
    {
     "name": "stdout",
     "output_type": "stream",
     "text": [
      "('age', 20)\n",
      "{'name': 'Jone', 'surname': 'Bagdone', 'hobbies': ['powerlifting', 'reading']}\n"
     ]
    }
   ],
   "source": [
    "#dict methods\n",
    "\n",
    "me ={\n",
    "    'name': 'Jone',\n",
    "    'surname': 'Bagdone',\n",
    "    'hobbies': ['powerlifting', 'reading'],\n",
    "    'age': 20\n",
    "}\n",
    "print(me.popitem())\n",
    "print(me)"
   ]
  },
  {
   "cell_type": "code",
   "execution_count": 50,
   "metadata": {},
   "outputs": [
    {
     "name": "stdout",
     "output_type": "stream",
     "text": [
      "None\n",
      "Bagdone\n",
      "0\n"
     ]
    }
   ],
   "source": [
    "me ={\n",
    "    'name': 'Jone',\n",
    "    'surname': 'Bagdone',\n",
    "    'hobbies': ['powerlifting', 'reading'],\n",
    "    'age': 20\n",
    "}\n",
    "print(me.get('not_exist'))\n",
    "print(me.get('surname'))\n",
    "print(me.get('not exist', 0))"
   ]
  },
  {
   "cell_type": "code",
   "execution_count": 51,
   "metadata": {},
   "outputs": [
    {
     "name": "stdout",
     "output_type": "stream",
     "text": [
      "{'name': 'Jone', 'surname': 'Bagdone', 'hobbies': ['powerlifting', 'reading'], 'age': 28}\n",
      "{'name': 'Jone', 'surname': 'Bagdone', 'hobbies': ['tennis', 'bicycle'], 'age': 27, 'city': 'Vilnius'}\n"
     ]
    }
   ],
   "source": [
    "me ={\n",
    "    'name': 'Jone',\n",
    "    'surname': 'Bagdone',\n",
    "    'hobbies': ['powerlifting', 'reading'],\n",
    "    'age': 20\n",
    "}\n",
    "me ['age']=28\n",
    "print(me)\n",
    "update_dict = {'hobbies': ['tennis', 'bicycle'], 'age': 27, 'city': 'Vilnius'}\n",
    "me.update(update_dict)\n",
    "print(me)"
   ]
  },
  {
   "cell_type": "code",
   "execution_count": 53,
   "metadata": {},
   "outputs": [
    {
     "name": "stdout",
     "output_type": "stream",
     "text": [
      "dict_keys(['name', 'surname', 'hobbies', 'age', 'city'])\n",
      "name\n",
      "surname\n",
      "hobbies\n",
      "age\n",
      "city\n"
     ]
    }
   ],
   "source": [
    "print(me.keys())\n",
    "\n",
    "for key in me.keys():\n",
    "    print(key)"
   ]
  },
  {
   "cell_type": "code",
   "execution_count": 54,
   "metadata": {},
   "outputs": [
    {
     "name": "stdout",
     "output_type": "stream",
     "text": [
      "Jone\n",
      "Bagdone\n",
      "['tennis', 'bicycle']\n",
      "27\n",
      "Vilnius\n"
     ]
    }
   ],
   "source": [
    "for val in me.values():\n",
    "    print(val)"
   ]
  },
  {
   "cell_type": "code",
   "execution_count": 55,
   "metadata": {},
   "outputs": [
    {
     "name": "stdout",
     "output_type": "stream",
     "text": [
      "key is name with a value of Jone\n",
      "key is surname with a value of Bagdone\n",
      "key is hobbies with a value of ['tennis', 'bicycle']\n",
      "key is age with a value of 27\n",
      "key is city with a value of Vilnius\n"
     ]
    }
   ],
   "source": [
    "for key, val in me.items():\n",
    "    print(f'key is {key} with a value of {val}')"
   ]
  },
  {
   "cell_type": "code",
   "execution_count": null,
   "metadata": {},
   "outputs": [],
   "source": [
    "print(twitter_post[user].get('friends_count'))"
   ]
  },
  {
   "cell_type": "code",
   "execution_count": null,
   "metadata": {},
   "outputs": [],
   "source": []
  },
  {
   "cell_type": "code",
   "execution_count": null,
   "metadata": {},
   "outputs": [],
   "source": []
  },
  {
   "cell_type": "code",
   "execution_count": null,
   "metadata": {},
   "outputs": [],
   "source": []
  },
  {
   "cell_type": "code",
   "execution_count": null,
   "metadata": {},
   "outputs": [],
   "source": []
  },
  {
   "cell_type": "code",
   "execution_count": null,
   "metadata": {},
   "outputs": [],
   "source": []
  },
  {
   "cell_type": "code",
   "execution_count": null,
   "metadata": {},
   "outputs": [],
   "source": []
  },
  {
   "cell_type": "code",
   "execution_count": null,
   "metadata": {},
   "outputs": [],
   "source": []
  }
 ],
 "metadata": {
  "kernelspec": {
   "display_name": "Python 3",
   "language": "python",
   "name": "python3"
  },
  "language_info": {
   "codemirror_mode": {
    "name": "ipython",
    "version": 3
   },
   "file_extension": ".py",
   "mimetype": "text/x-python",
   "name": "python",
   "nbconvert_exporter": "python",
   "pygments_lexer": "ipython3",
   "version": "3.11.2"
  },
  "orig_nbformat": 4,
  "vscode": {
   "interpreter": {
    "hash": "4e73e8d8f89bdd539245a9679ef8d9d36b829ee2c1c672402cc0b5e6efc46637"
   }
  }
 },
 "nbformat": 4,
 "nbformat_minor": 2
}
