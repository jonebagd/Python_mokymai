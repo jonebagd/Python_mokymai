{
 "cells": [
  {
   "cell_type": "code",
   "execution_count": null,
   "metadata": {},
   "outputs": [],
   "source": [
    "#string"
   ]
  },
  {
   "cell_type": "code",
   "execution_count": 5,
   "metadata": {},
   "outputs": [
    {
     "name": "stdout",
     "output_type": "stream",
     "text": [
      "True\n",
      "False\n",
      "1972\n",
      "True\n"
     ]
    }
   ],
   "source": [
    "print('1972'.isdigit())\n",
    "print('1972 '.isdigit()) #space added, not numnber\n",
    "print(' 1972 '.strip())\n",
    "print(' 1972 '.strip().isdigit())"
   ]
  },
  {
   "cell_type": "code",
   "execution_count": null,
   "metadata": {},
   "outputs": [],
   "source": [
    "#string operations"
   ]
  },
  {
   "cell_type": "code",
   "execution_count": 6,
   "metadata": {},
   "outputs": [
    {
     "data": {
      "text/plain": [
       "'Jone says hello'"
      ]
     },
     "execution_count": 6,
     "metadata": {},
     "output_type": "execute_result"
    }
   ],
   "source": [
    "'Jone' + ' ' + 'says hello'"
   ]
  },
  {
   "cell_type": "code",
   "execution_count": 8,
   "metadata": {},
   "outputs": [
    {
     "data": {
      "text/plain": [
       "'hi hi hi hi hi hi hi hi hi hi '"
      ]
     },
     "execution_count": 8,
     "metadata": {},
     "output_type": "execute_result"
    }
   ],
   "source": [
    "'hi ' * 10"
   ]
  },
  {
   "cell_type": "code",
   "execution_count": null,
   "metadata": {},
   "outputs": [],
   "source": [
    "#string formatting.f-string"
   ]
  },
  {
   "cell_type": "code",
   "execution_count": 16,
   "metadata": {},
   "outputs": [
    {
     "name": "stdout",
     "output_type": "stream",
     "text": [
      "Jone Bagdone, nice to meet you. Your number is 42\n",
      "Jone Bagdone\n",
      "Jone Bagdone, nice to meet you! Your number is 42\n",
      "Jone   Bagdone, nice to meet you! Your number is 46\n"
     ]
    }
   ],
   "source": [
    "name = 'Jone'\n",
    "surname = 'Bagdone'\n",
    "number = 42\n",
    "\n",
    "print( name + ' ' + surname + ', ' + 'nice to meet you. Your number is ' + str(number))\n",
    "\n",
    "#fstring\n",
    "print( f'{name} {surname}' )\n",
    "print( f'{name} {surname}, nice to meet you! Your number is {number}' )\n",
    "print( f'{name    }   {surname}, nice to meet you! Your number is {number+4}' )"
   ]
  },
  {
   "cell_type": "code",
   "execution_count": 26,
   "metadata": {},
   "outputs": [
    {
     "name": "stdout",
     "output_type": "stream",
     "text": [
      "Jone Bagdone\n",
      "Jone Bagdone\n",
      "Jone Bagdone\n",
      "PYTHON MAKES ME REALY REALLY HAPPY!\n",
      "PyThOn makes me realy really happy!\n",
      "18\n",
      "40\n"
     ]
    }
   ],
   "source": [
    "#tasks\n",
    "print(name + ' ' + surname)\n",
    "print(name + \" \" + surname)\n",
    "print(name, surname)\n",
    "\n",
    "text_1 = 'Python makes me realy really happy!'\n",
    "print(text_1.upper())\n",
    "print(text_1.replace('tho','ThO'))\n",
    "\n",
    "text_2 = 'Hello World, I am happy to learn Python!'\n",
    "word_to_find = 'happy'\n",
    "print(text_2.find(word_to_find))\n",
    "\n",
    "print(len(text_2))"
   ]
  },
  {
   "cell_type": "code",
   "execution_count": null,
   "metadata": {},
   "outputs": [],
   "source": [
    "#numbers"
   ]
  },
  {
   "cell_type": "code",
   "execution_count": 27,
   "metadata": {},
   "outputs": [
    {
     "name": "stdout",
     "output_type": "stream",
     "text": [
      "<class 'str'>\n",
      "<class 'int'>\n",
      "<class 'float'>\n",
      "<class 'float'>\n"
     ]
    }
   ],
   "source": [
    "int_1 = 1\n",
    "float_1 = 1.0\n",
    "float_2 = 1.\n",
    "number_symbol = '1'\n",
    "print(type(number_symbol))\n",
    "print(type(int_1))\n",
    "print(type(float_1))\n",
    "print(type(float_2))"
   ]
  },
  {
   "cell_type": "code",
   "execution_count": null,
   "metadata": {},
   "outputs": [],
   "source": [
    "#operations"
   ]
  },
  {
   "cell_type": "code",
   "execution_count": 34,
   "metadata": {},
   "outputs": [
    {
     "name": "stdout",
     "output_type": "stream",
     "text": [
      "15\n",
      "-36\n",
      "50\n",
      "0.5\n",
      "4\n",
      "8\n",
      "32\n",
      "1\n",
      "2\n",
      "5\n",
      "5\n"
     ]
    }
   ],
   "source": [
    "print(5+10)\n",
    "print(5-41)\n",
    "print(5*10)\n",
    "print(5/10)\n",
    "\n",
    "\n",
    "print( 2**2 )\n",
    "print(2**3)\n",
    "print(2**5) #5 laipsniu pakelta\n",
    "\n",
    "print(15//10) #floor division\n",
    "print(25//10)\n",
    "\n",
    "#modulus division if we can make a division by that number\n",
    "print(15%10)\n",
    "print(25%10)"
   ]
  },
  {
   "cell_type": "code",
   "execution_count": 37,
   "metadata": {},
   "outputs": [
    {
     "name": "stdout",
     "output_type": "stream",
     "text": [
      "8.4\n",
      "6.4\n",
      "5.0\n"
     ]
    }
   ],
   "source": [
    "my_sum = 0\n",
    "my_sum = my_sum + 5.4\n",
    "my_sum = my_sum + 3.0\n",
    "print(my_sum)\n",
    "\n",
    "my_sum = 0\n",
    "my_sum +=5.4\n",
    "my_sum +=1\n",
    "print(my_sum)\n",
    "\n",
    "\n",
    "multiplication = 1\n",
    "multiplication *=10\n",
    "multiplication *=0.5\n",
    "print(multiplication)"
   ]
  },
  {
   "cell_type": "code",
   "execution_count": 52,
   "metadata": {},
   "outputs": [
    {
     "name": "stdout",
     "output_type": "stream",
     "text": [
      "5\n",
      "-1\n",
      "2\n",
      "0.9333333333333332\n",
      "390.625\n",
      "distance to the Sun is 390 greater than to the Moon\n",
      "2560.0\n",
      "2560.0\n",
      "106.66666666666667\n",
      "3.5555555555555554\n",
      "0.2962962962962963\n",
      "153600.0\n",
      "9216000.0\n"
     ]
    },
    {
     "data": {
      "text/plain": [
       "12410"
      ]
     },
     "execution_count": 52,
     "metadata": {},
     "output_type": "execute_result"
    }
   ],
   "source": [
    "#tasks\n",
    "\n",
    "#1\n",
    "int_2 = 2\n",
    "int_3 = 3\n",
    "print(int_2+int_3)\n",
    "print(int_2-int_3)\n",
    "print(int_2%int_3)\n",
    "\n",
    "#2\n",
    "float_3 = 5.6\n",
    "float_4 = 6.0\n",
    "print(float_3/float_4)\n",
    "\n",
    "#3\n",
    "distance_to_moon = 384_000\n",
    "distance_to_sun = 150_000_000\n",
    "print(distance_to_sun/distance_to_moon)\n",
    "print(f'distance to the Sun is {distance_to_sun//distance_to_moon} greater than to the Moon')\n",
    "\n",
    "driving_speed = 150\n",
    "print(distance_to_moon/driving_speed) #hours\n",
    "day = driving_speed * 24\n",
    "month = day *30\n",
    "year = month *12\n",
    "minutes = driving_speed / 60 \n",
    "seconds = minutes / 60 \n",
    "print (distance_to_moon/driving_speed)\n",
    "print (distance_to_moon/day)\n",
    "print (distance_to_moon/month)\n",
    "print (distance_to_moon/year)\n",
    "print (distance_to_moon/minutes)\n",
    "print (distance_to_moon/seconds)\n",
    "\n",
    "#how many days since birthday\n",
    "(2023-1989)*365"
   ]
  },
  {
   "cell_type": "code",
   "execution_count": 55,
   "metadata": {},
   "outputs": [
    {
     "name": "stdout",
     "output_type": "stream",
     "text": [
      "1989-06-14\n",
      "2023-02-27\n",
      "12311\n"
     ]
    }
   ],
   "source": [
    "from datetime import date\n",
    "\n",
    "d0 = date(1989,6,14)\n",
    "d1 = date.today()\n",
    "print(d0)\n",
    "print(d1)\n",
    "delta = d1-d0\n",
    "print(delta.days)"
   ]
  },
  {
   "cell_type": "code",
   "execution_count": null,
   "metadata": {},
   "outputs": [],
   "source": [
    "#boolean"
   ]
  },
  {
   "cell_type": "code",
   "execution_count": 60,
   "metadata": {},
   "outputs": [
    {
     "name": "stdout",
     "output_type": "stream",
     "text": [
      "True\n",
      "<class 'bool'>\n",
      "False\n",
      "1\n",
      "0\n"
     ]
    }
   ],
   "source": [
    "bool_true = True\n",
    "print(bool_true)\n",
    "print(type(bool_true))\n",
    "\n",
    "bool_false = False\n",
    "print(bool_false)\n",
    "\n",
    "print(int(bool_true))\n",
    "print(int(bool_false))"
   ]
  },
  {
   "cell_type": "code",
   "execution_count": 63,
   "metadata": {},
   "outputs": [
    {
     "name": "stdout",
     "output_type": "stream",
     "text": [
      "True\n",
      "True\n",
      "True\n",
      "True\n",
      "False\n",
      "True\n"
     ]
    }
   ],
   "source": [
    "print(bool(1))\n",
    "print(bool(2))\n",
    "print(bool(0.00005))\n",
    "print(bool(-40))\n",
    "print(bool(0)) #only possible way to het False from a number and empty''\n",
    "print(bool('Hello'))"
   ]
  },
  {
   "cell_type": "code",
   "execution_count": 70,
   "metadata": {},
   "outputs": [
    {
     "name": "stdout",
     "output_type": "stream",
     "text": [
      "False\n",
      "True\n",
      "True\n",
      ">=\n",
      "False\n",
      "True\n",
      "True\n"
     ]
    }
   ],
   "source": [
    "print( 2>5 )\n",
    "print(5>2)\n",
    "print(5>=2)\n",
    "print('>=')\n",
    "\n",
    "\n",
    "print(2 ==1)\n",
    "print(2 ==2) #== is comparison, = is aasignment\n",
    "\n",
    "print (2!=3) #not equal"
   ]
  },
  {
   "cell_type": "code",
   "execution_count": 86,
   "metadata": {},
   "outputs": [
    {
     "name": "stdout",
     "output_type": "stream",
     "text": [
      "True\n",
      "False\n",
      "False\n",
      "hello world\n",
      "True\n",
      "True\n"
     ]
    }
   ],
   "source": [
    "text_3 = 'Hello world'\n",
    "bool_1 = 'H' in text_3\n",
    "print(bool_1)\n",
    "print('D' in text_3) #nes ne didzioji\n",
    "print(text_3.islower())\n",
    "print(text_3.lower())\n",
    "print(text_3.lower().islower())\n",
    "print('h' in text_3.lower())"
   ]
  },
  {
   "cell_type": "code",
   "execution_count": 90,
   "metadata": {},
   "outputs": [
    {
     "name": "stdout",
     "output_type": "stream",
     "text": [
      "False\n",
      "True\n",
      "False\n"
     ]
    }
   ],
   "source": [
    "#not\n",
    "\n",
    "print(not True)\n",
    "print(not False)\n",
    "print(not not False)"
   ]
  },
  {
   "cell_type": "code",
   "execution_count": 94,
   "metadata": {},
   "outputs": [
    {
     "name": "stdout",
     "output_type": "stream",
     "text": [
      "True\n",
      "False\n",
      "False\n",
      "True\n"
     ]
    }
   ],
   "source": [
    "#and or\n",
    "\n",
    "a = 2\n",
    "b= 5\n",
    "c = -10\n",
    "print(a < b and b>c)\n",
    "print(a > b and b>c)\n",
    "print(a > b and b<c)\n",
    "\n",
    "print(a > b or b>c)"
   ]
  },
  {
   "cell_type": "code",
   "execution_count": 109,
   "metadata": {},
   "outputs": [
    {
     "name": "stdout",
     "output_type": "stream",
     "text": [
      "True\n",
      "True\n",
      "True\n",
      "True\n",
      "True\n",
      "False\n",
      "False\n",
      "False\n",
      "False\n",
      "False\n",
      "False\n",
      "False\n",
      "True\n",
      "True\n"
     ]
    }
   ],
   "source": [
    "#tasks\n",
    "#5 ways to get True value\n",
    "\n",
    "a = 2\n",
    "b= 5\n",
    "c = -10\n",
    "print(a < b and b>c)\n",
    "print(a > b or b>c)\n",
    "print(not False)\n",
    "text_3 = 'Hello world'\n",
    "bool_1 = 'H' in text_3\n",
    "print(bool_1)\n",
    "print(2 ==2)\n",
    "\n",
    "#5ways to get False value\n",
    "a = 2\n",
    "b= 5\n",
    "c = -10\n",
    "print(a < b and b<c)\n",
    "print(a > b or b<c)\n",
    "print(not True)\n",
    "text_3 = 'Hello world'\n",
    "bool_1 = 'E' in text_3\n",
    "print(bool_1)\n",
    "print(2 ==3)\n",
    "\n",
    "#using int type\n",
    "print(2 ==3)\n",
    "text_3 = 'Hello world'\n",
    "bool_1 = 'E' in text_3\n",
    "print(bool_1)\n",
    "print('a' in 'auto')\n",
    "print(bool('oo'))"
   ]
  },
  {
   "cell_type": "code",
   "execution_count": 115,
   "metadata": {},
   "outputs": [
    {
     "name": "stdout",
     "output_type": "stream",
     "text": [
      "['Vilnius', 'Kaunas', 'London']\n",
      "<class 'list'>\n",
      "Vilnius\n",
      "<class 'str'>\n",
      "['Kaunas', 'London']\n",
      "['Vilnius', 'Kaunas']\n"
     ]
    }
   ],
   "source": [
    "#list (number of items)\n",
    "cities = ['Vilnius', 'Kaunas', 'London']\n",
    "print(cities)\n",
    "print(type(cities))\n",
    "print(cities[0])\n",
    "print(type(cities[0]))\n",
    "\n",
    "print(cities[1:])\n",
    "print(cities[:2])"
   ]
  },
  {
   "cell_type": "code",
   "execution_count": 120,
   "metadata": {},
   "outputs": [
    {
     "name": "stdout",
     "output_type": "stream",
     "text": [
      "7\n",
      "<class 'int'>\n",
      "<class 'bool'>\n",
      "<class 'str'>\n"
     ]
    }
   ],
   "source": [
    "numbers = [1,654,7,6987,7,'87',False]\n",
    "print(len(numbers))\n",
    "print(type(numbers[0]))\n",
    "print(type(numbers[-1]))\n",
    "print(type(numbers[-2]))"
   ]
  },
  {
   "cell_type": "code",
   "execution_count": 122,
   "metadata": {},
   "outputs": [
    {
     "name": "stdout",
     "output_type": "stream",
     "text": [
      "[14, 786, 7]\n",
      "[14, 786, 7, 500]\n"
     ]
    }
   ],
   "source": [
    "numbers = [14,786,7]\n",
    "print(numbers)\n",
    "numbers.append(500)\n",
    "print(numbers)"
   ]
  },
  {
   "cell_type": "code",
   "execution_count": null,
   "metadata": {},
   "outputs": [],
   "source": []
  },
  {
   "cell_type": "code",
   "execution_count": null,
   "metadata": {},
   "outputs": [],
   "source": []
  },
  {
   "cell_type": "code",
   "execution_count": null,
   "metadata": {},
   "outputs": [],
   "source": []
  },
  {
   "cell_type": "code",
   "execution_count": null,
   "metadata": {},
   "outputs": [],
   "source": []
  }
 ],
 "metadata": {
  "kernelspec": {
   "display_name": "Python 3",
   "language": "python",
   "name": "python3"
  },
  "language_info": {
   "codemirror_mode": {
    "name": "ipython",
    "version": 3
   },
   "file_extension": ".py",
   "mimetype": "text/x-python",
   "name": "python",
   "nbconvert_exporter": "python",
   "pygments_lexer": "ipython3",
   "version": "3.11.2"
  },
  "orig_nbformat": 4,
  "vscode": {
   "interpreter": {
    "hash": "4e73e8d8f89bdd539245a9679ef8d9d36b829ee2c1c672402cc0b5e6efc46637"
   }
  }
 },
 "nbformat": 4,
 "nbformat_minor": 2
}
