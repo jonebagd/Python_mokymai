{
 "cells": [
  {
   "cell_type": "code",
   "execution_count": 1,
   "metadata": {},
   "outputs": [
    {
     "name": "stdout",
     "output_type": "stream",
     "text": [
      "hello\n"
     ]
    }
   ],
   "source": [
    "print('hello')"
   ]
  },
  {
   "cell_type": "code",
   "execution_count": 2,
   "metadata": {},
   "outputs": [
    {
     "name": "stdout",
     "output_type": "stream",
     "text": [
      "new cell\n"
     ]
    }
   ],
   "source": [
    "print(\"new cell\")\n"
   ]
  },
  {
   "cell_type": "code",
   "execution_count": 4,
   "metadata": {},
   "outputs": [],
   "source": [
    "x = 5"
   ]
  },
  {
   "cell_type": "code",
   "execution_count": 5,
   "metadata": {},
   "outputs": [
    {
     "name": "stdout",
     "output_type": "stream",
     "text": [
      "5\n"
     ]
    }
   ],
   "source": [
    "print(x)"
   ]
  },
  {
   "cell_type": "code",
   "execution_count": 7,
   "metadata": {},
   "outputs": [],
   "source": [
    "variable_name = 5\n",
    "number_1 = 1\n",
    "\n",
    "# this is a constant value variable and should not be changed / updated\n",
    "CONSTANT_VALUE = 7\n",
    "\n",
    "print(CONSTANT_VALUE)"
   ]
  },
  {
   "cell_type": "code",
   "execution_count": 8,
   "metadata": {},
   "outputs": [
    {
     "name": "stdout",
     "output_type": "stream",
     "text": [
      "The Zen of Python, by Tim Peters\n",
      "\n",
      "Beautiful is better than ugly.\n",
      "Explicit is better than implicit.\n",
      "Simple is better than complex.\n",
      "Complex is better than complicated.\n",
      "Flat is better than nested.\n",
      "Sparse is better than dense.\n",
      "Readability counts.\n",
      "Special cases aren't special enough to break the rules.\n",
      "Although practicality beats purity.\n",
      "Errors should never pass silently.\n",
      "Unless explicitly silenced.\n",
      "In the face of ambiguity, refuse the temptation to guess.\n",
      "There should be one-- and preferably only one --obvious way to do it.\n",
      "Although that way may not be obvious at first unless you're Dutch.\n",
      "Now is better than never.\n",
      "Although never is often better than *right* now.\n",
      "If the implementation is hard to explain, it's a bad idea.\n",
      "If the implementation is easy to explain, it may be a good idea.\n",
      "Namespaces are one honking great idea -- let's do more of those!\n"
     ]
    }
   ],
   "source": [
    "import this"
   ]
  },
  {
   "cell_type": "code",
   "execution_count": null,
   "metadata": {},
   "outputs": [],
   "source": [
    "# strings"
   ]
  },
  {
   "cell_type": "code",
   "execution_count": 9,
   "metadata": {},
   "outputs": [],
   "source": [
    "name = 'Jone'"
   ]
  },
  {
   "cell_type": "code",
   "execution_count": 10,
   "metadata": {},
   "outputs": [
    {
     "name": "stdout",
     "output_type": "stream",
     "text": [
      "Jone\n"
     ]
    }
   ],
   "source": [
    "print(name)"
   ]
  },
  {
   "cell_type": "code",
   "execution_count": 16,
   "metadata": {},
   "outputs": [
    {
     "name": "stdout",
     "output_type": "stream",
     "text": [
      "J\n",
      "o\n",
      "e\n",
      "D\n",
      "4\n",
      "8\n"
     ]
    }
   ],
   "source": [
    "print( name[0] )\n",
    "print( name[1] )\n",
    "print( name[-1] ) #1st letter from the end\n",
    "print( 'Darius'[0])\n",
    "print( len(name) )\n",
    "print( len('Jone    '))"
   ]
  },
  {
   "cell_type": "code",
   "execution_count": null,
   "metadata": {},
   "outputs": [],
   "source": [
    "## Slicing"
   ]
  },
  {
   "cell_type": "code",
   "execution_count": 20,
   "metadata": {},
   "outputs": [
    {
     "name": "stdout",
     "output_type": "stream",
     "text": [
      "H\n",
      "llo world\n",
      "llo\n",
      "Hello\n"
     ]
    }
   ],
   "source": [
    "text = 'Hello world'\n",
    "\n",
    "print( text[0] )\n",
    "print(text[2:])\n",
    "print(text[2:5])\n",
    "print(text[:5]) #5 not included"
   ]
  },
  {
   "cell_type": "code",
   "execution_count": null,
   "metadata": {},
   "outputs": [],
   "source": [
    "## slicing with step variable name[start:end:step]"
   ]
  },
  {
   "cell_type": "code",
   "execution_count": 27,
   "metadata": {},
   "outputs": [
    {
     "name": "stdout",
     "output_type": "stream",
     "text": [
      "Hello world\n",
      "ello wor\n",
      "el o\n",
      "eoo\n",
      "dlrow olleH\n"
     ]
    }
   ],
   "source": [
    "print(text)\n",
    "print( text[1:9])\n",
    "print( text[1:9:2]) #skip every 2 symbols\n",
    "print( text[1:9:3]) #skip every 3 symbols\n",
    "\n",
    "print( text[::-1]) #reverse the word"
   ]
  },
  {
   "cell_type": "code",
   "execution_count": 30,
   "metadata": {},
   "outputs": [
    {
     "name": "stdout",
     "output_type": "stream",
     "text": [
      "I can't go today\n",
      "I can't go today\n",
      "I can't go today\n"
     ]
    }
   ],
   "source": [
    "# text = 'I can't go today' #error\n",
    "text = \"I can't go today\"\n",
    "print(text)\n",
    "text_2 = 'I can\\'t go today'\n",
    "print(text_2)\n",
    "text_3 = '''I can't go today''' \n",
    "print(text_3)"
   ]
  },
  {
   "cell_type": "code",
   "execution_count": null,
   "metadata": {},
   "outputs": [],
   "source": [
    "number = 5 #number 5 for operation\n",
    "number_symbol = '5' #symbol of 5 \n",
    "# number + number_symbol #error"
   ]
  },
  {
   "cell_type": "code",
   "execution_count": 31,
   "metadata": {},
   "outputs": [
    {
     "name": "stdout",
     "output_type": "stream",
     "text": [
      "I can't go today\n"
     ]
    }
   ],
   "source": [
    "print(text)"
   ]
  },
  {
   "cell_type": "code",
   "execution_count": 42,
   "metadata": {},
   "outputs": [
    {
     "name": "stdout",
     "output_type": "stream",
     "text": [
      "Title\n",
      "I CAN'T GO TODAY\n",
      "I Can'T Go Today\n",
      "i can't go today\n",
      "2\n",
      "I can't go tomorrow\n",
      "I cAAn't go todAAy\n",
      "I cAAn't go today\n",
      "8\n",
      "go\n"
     ]
    }
   ],
   "source": [
    "print('title'.capitalize())\n",
    "print(text.upper())\n",
    "print(text.title())\n",
    "print(text.lower())\n",
    "print(text.count('a'))\n",
    "print(text.replace('today', 'tomorrow'))\n",
    "print(text.replace('a','AA'))\n",
    "print(text.replace('can','cAAn'))\n",
    "print(text.find('go'))\n",
    "print(text[8:10])"
   ]
  },
  {
   "cell_type": "code",
   "execution_count": 46,
   "metadata": {},
   "outputs": [
    {
     "name": "stdout",
     "output_type": "stream",
     "text": [
      "go today to the cinema\n"
     ]
    }
   ],
   "source": [
    "text_2 = \"Hi, I can't go today to the cinema\"\n",
    "# print(text_2[8:10])\n",
    "print(text_2[text_2.find('go'):])"
   ]
  },
  {
   "cell_type": "code",
   "execution_count": 47,
   "metadata": {},
   "outputs": [
    {
     "data": {
      "text/plain": [
       "-1"
      ]
     },
     "execution_count": 47,
     "metadata": {},
     "output_type": "execute_result"
    }
   ],
   "source": [
    "text_2.find('GO')"
   ]
  },
  {
   "cell_type": "code",
   "execution_count": null,
   "metadata": {},
   "outputs": [],
   "source": []
  },
  {
   "cell_type": "code",
   "execution_count": null,
   "metadata": {},
   "outputs": [],
   "source": []
  }
 ],
 "metadata": {
  "kernelspec": {
   "display_name": "Python 3",
   "language": "python",
   "name": "python3"
  },
  "language_info": {
   "codemirror_mode": {
    "name": "ipython",
    "version": 3
   },
   "file_extension": ".py",
   "mimetype": "text/x-python",
   "name": "python",
   "nbconvert_exporter": "python",
   "pygments_lexer": "ipython3",
   "version": "3.11.2"
  },
  "orig_nbformat": 4,
  "vscode": {
   "interpreter": {
    "hash": "4e73e8d8f89bdd539245a9679ef8d9d36b829ee2c1c672402cc0b5e6efc46637"
   }
  }
 },
 "nbformat": 4,
 "nbformat_minor": 2
}
